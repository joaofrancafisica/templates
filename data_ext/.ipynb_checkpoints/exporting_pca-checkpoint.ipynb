{
 "cells": [
  {
   "cell_type": "code",
   "execution_count": 1,
   "metadata": {},
   "outputs": [],
   "source": [
    "import glob #to read the files\n",
    "import numpy as np\n",
    "import matplotlib.pyplot as plt\n",
    "from mpl_toolkits.mplot3d import axes3d\n",
    "from sklearn.gaussian_process import GaussianProcessRegressor\n",
    "from sklearn.gaussian_process.kernels import RBF, WhiteKernel\n",
    "from scipy.interpolate import interp1d\n",
    "import os.path \n",
    "from tabulate import tabulate #to export in table format\n",
    "from scipy.interpolate import interp1d\n",
    "from scipy.optimize import fmin"
   ]
  },
  {
   "cell_type": "code",
   "execution_count": 2,
   "metadata": {},
   "outputs": [],
   "source": [
    "kernel = [0.5 * RBF(length_scale=5, length_scale_bounds=(1, 20)) + WhiteKernel(noise_level=0.1, noise_level_bounds=(1e-5,0.5)), 0.5 * RBF(length_scale=20, length_scale_bounds=(1, 30)) + WhiteKernel(noise_level=0.1, noise_level_bounds=(1e-5,0.5)), 0.5 * RBF(length_scale=1, length_scale_bounds=(1, 10)) + WhiteKernel(noise_level=0.1, noise_level_bounds=(1e-5,0.5)), 0.5 * RBF(length_scale=5, length_scale_bounds=(1, 10)) + WhiteKernel(noise_level=0.1, noise_level_bounds=(1e-5,0.5)), 0.5 * RBF(length_scale=15, length_scale_bounds=(10, 20)) + WhiteKernel(noise_level=0.1, noise_level_bounds=(1e-5,0.5))]"
   ]
  },
  {
   "cell_type": "code",
   "execution_count": 3,
   "metadata": {},
   "outputs": [],
   "source": [
    "X_ = np.linspace(-10, 50, 60 + 1)\n",
    "xmin = np.linspace(-5, 5, 3)\n",
    "wave = np.linspace(3300, 8500, 520 + 1)\n",
    "save_path = '/home/joao/Documentos/PCA'"
   ]
  },
  {
   "cell_type": "code",
   "execution_count": 4,
   "metadata": {},
   "outputs": [],
   "source": [
    "file = open(\"names.txt\")\n",
    "lines = file.readlines()\n",
    "file.close()"
   ]
  },
  {
   "cell_type": "code",
   "execution_count": 5,
   "metadata": {},
   "outputs": [],
   "source": [
    "training_set = []"
   ]
  },
  {
   "cell_type": "code",
   "execution_count": 6,
   "metadata": {},
   "outputs": [],
   "source": [
    "for line in lines:\n",
    "    if line.startswith('#'): continue\n",
    "    co=line.rstrip().replace('INDEF','Nan').split()\n",
    "\n",
    "    training_set.append(co[0])"
   ]
  },
  {
   "cell_type": "code",
   "execution_count": 7,
   "metadata": {
    "scrolled": true
   },
   "outputs": [
    {
     "data": {
      "text/plain": [
       "['SN2007nq',\n",
       " 'SN2009aa',\n",
       " 'SN2013ew',\n",
       " 'SN1995al',\n",
       " 'SN2003it',\n",
       " 'SN2006ax',\n",
       " 'SN2006mr',\n",
       " 'SN2007ci',\n",
       " 'SN1998dh',\n",
       " 'SN2002cs',\n",
       " 'SN2006ac',\n",
       " 'SN2006bt',\n",
       " 'iPTF14bdn',\n",
       " 'SN2012hr',\n",
       " 'SN1997bq',\n",
       " 'SN2002de',\n",
       " 'SN2002jy',\n",
       " 'SN2005A',\n",
       " 'SN2007A',\n",
       " 'SN2007bc',\n",
       " 'SN2007qe',\n",
       " 'SN2012bp']"
      ]
     },
     "execution_count": 7,
     "metadata": {},
     "output_type": "execute_result"
    }
   ],
   "source": [
    "training_set"
   ]
  },
  {
   "cell_type": "code",
   "execution_count": null,
   "metadata": {
    "scrolled": true
   },
   "outputs": [
    {
     "name": "stdout",
     "output_type": "stream",
     "text": [
      "SN2007nq\n",
      "SN2009aa\n",
      "SN2013ew\n",
      "SN1995al\n",
      "SN2003it\n",
      "SN2006ax\n",
      "SN2006mr\n",
      "SN2007ci\n",
      "SN1998dh\n",
      "SN2002cs\n",
      "SN2006ac\n",
      "SN2006bt\n",
      "iPTF14bdn\n",
      "SN2012hr\n",
      "SN1997bq\n",
      "SN2002de\n",
      "SN2002jy\n",
      "SN2005A\n",
      "SN2007A\n",
      "SN2007bc\n",
      "SN2007qe\n"
     ]
    }
   ],
   "source": [
    "for j in range(0,len(training_set)):\n",
    "\n",
    "\n",
    "    \n",
    "    list_data = [[[],[]] for y in range(0,521)]\n",
    "    \n",
    "    sn_names=glob.glob(\"/home/joao/Documentos/templates/data_ext/\"+training_set[j]+\"*\"+\".dat\")\n",
    "    #sn_names=glob.glob(\"/home/joao/Documentos/templates/data_ext/\"+\"SN2014J\"+\"*\"+\".dat\")\n",
    "    #print(sn_names)\n",
    "    \n",
    "    for p in range(0,len(sn_names)):\n",
    "\n",
    "        sn_names[p] = sn_names[p][41:]\n",
    "    \n",
    "    \n",
    "    print(training_set[j])\n",
    "    \n",
    "    #print(sn_names)\n",
    "    \n",
    "    if len(sn_names) > 5:\n",
    "        \n",
    "        for i in range(0,len(sn_names)):\n",
    "\n",
    "            #y = []\n",
    "            z = []\n",
    "\n",
    "            file = open(sn_names[i])\n",
    "            lines = file.readlines()\n",
    "            file.close()\n",
    "\n",
    "            for line in lines:\n",
    "                if line.startswith('#'): continue\n",
    "                co=line.rstrip().replace('INDEF','Nan').split()\n",
    "\n",
    "                #y.append(co[0])\n",
    "                z.append(co[1])\n",
    "        \n",
    "\n",
    "            #y = np.array(y, dtype=float)\n",
    "            z = np.array(z, dtype=float)\n",
    "            #print(z)\n",
    "            \n",
    "            \n",
    "            for l in range(0,len(z)):\n",
    "                \n",
    "                if z[l] < 10**(-64):\n",
    "                    \n",
    "                     z[l] = 0\n",
    "            \n",
    "            \n",
    "            timetemp = lines[0]\n",
    "            timetemp = timetemp[:-1]\n",
    "            timetemp = float(timetemp[1:])\n",
    "            \n",
    "            for jj in range(0,len(z)):\n",
    "                \n",
    "                list_data[jj][0].append([timetemp])\n",
    "                list_data[jj][1].append(z[jj])\n",
    "\n",
    "            #print(i)\n",
    "            \n",
    "        Export = []\n",
    "\n",
    "        for jj in range(0,len(list_data)):\n",
    "            \n",
    "\n",
    "\n",
    "            teste = all(v == 0 for v in list_data[jj][1])\n",
    "            \n",
    "            if teste == False:\n",
    "                option = []\n",
    "                score = []  \n",
    "                \n",
    "                #print(list_data[jj][1])\n",
    "                ff = max(list_data[jj][1])\n",
    "                #print(ff)\n",
    "                list_data[jj][1] = list_data[jj][1]/ff\n",
    "                \n",
    "                for ii in range(0,len(kernel)):\n",
    "                \n",
    "                    val = []\n",
    "                \n",
    "\n",
    "                    #gp = GaussianProcessRegressor(kernel=kernel, alpha=np.var(list_data[jj][1])).fit(list_data[jj][0], list_data[jj][1])\n",
    "                    gp = GaussianProcessRegressor(kernel=kernel[ii], alpha=0.0).fit(list_data[jj][0], list_data[jj][1])\n",
    "                    y_mean = gp.predict(X_[:, np.newaxis])\n",
    "                    val_score = gp.score(list_data[jj][0], list_data[jj][1])\n",
    "                    \n",
    "                    interpolation = interp1d(X_, y_mean, fill_value=\"extrapolate\")\n",
    "                    \n",
    "                \n",
    "                    for o in range(0,len(xmin)):\n",
    "\n",
    "                        xval = fmin(interpolation, xmin[o], disp=False)\n",
    "\n",
    "\n",
    "                        if -10 < xval[0] < 10:\n",
    "\n",
    "                            val.append(xval[0])\n",
    "                \n",
    "                    if len(val) == 0:\n",
    "\n",
    "                        score.append(val_score)\n",
    "                        option.append(ii)\n",
    "        \n",
    "                #print(option)\n",
    "                if len(option) > 0:\n",
    "                \n",
    "                    maxpos = score.index(max(score))\n",
    "                    \n",
    "                    gp = GaussianProcessRegressor(kernel=kernel[maxpos], alpha=0.0).fit(list_data[jj][0], list_data[jj][1])\n",
    "                    y_meaneff = gp.predict(X_[:, np.newaxis])\n",
    "                    #print(\"algum se ajustou\")\n",
    "                else:\n",
    "                    \n",
    "                    gp = GaussianProcessRegressor(kernel=kernel[0], alpha=0.0).fit(list_data[jj][0], list_data[jj][1])\n",
    "                    y_meaneff = gp.predict(X_[:, np.newaxis])\n",
    "                    #print(\"nenhum se ajustou\")\n",
    "                    \n",
    "                for l in range(0,len(y_mean)):\n",
    "\n",
    "                    Export.append(y_meaneff[l]*ff)\n",
    "                \n",
    "            else:\n",
    "                \n",
    "                y_meaneff = [0 for y in range(0,61)]\n",
    "                #print(len(y_mean), len(X_))\n",
    "                \n",
    "                for l in range(0,len(y_meaneff)):\n",
    "\n",
    "                    Export.append(y_meaneff[l])\n",
    "\n",
    "        table = []\n",
    "        for l in range(0,len(Export)):\n",
    "            table.append((Export[l],training_set[j]))\n",
    "\n",
    "        name_of_file = training_set[j]\n",
    "\n",
    "        completeName = os.path.join(save_path, name_of_file+\".dat\")\n",
    "\n",
    "        f = open(completeName, 'w')\n",
    "        f.write(tabulate(table, tablefmt=\"plain\"))\n",
    "        f.close()\n"
   ]
  },
  {
   "cell_type": "code",
   "execution_count": null,
   "metadata": {},
   "outputs": [],
   "source": []
  }
 ],
 "metadata": {
  "kernelspec": {
   "display_name": "Python 3",
   "language": "python",
   "name": "python3"
  },
  "language_info": {
   "codemirror_mode": {
    "name": "ipython",
    "version": 3
   },
   "file_extension": ".py",
   "mimetype": "text/x-python",
   "name": "python",
   "nbconvert_exporter": "python",
   "pygments_lexer": "ipython3",
   "version": "3.6.9"
  }
 },
 "nbformat": 4,
 "nbformat_minor": 2
}

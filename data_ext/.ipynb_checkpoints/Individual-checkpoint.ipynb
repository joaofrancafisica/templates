{
 "cells": [
  {
   "cell_type": "code",
   "execution_count": 1,
   "metadata": {},
   "outputs": [],
   "source": [
    "import glob #to read the files\n",
    "import numpy as np\n",
    "import matplotlib.pyplot as plt\n",
    "from mpl_toolkits.mplot3d import axes3d\n",
    "from sklearn.gaussian_process import GaussianProcessRegressor\n",
    "from sklearn.gaussian_process.kernels import RBF, WhiteKernel\n",
    "from scipy.interpolate import interp1d\n",
    "import os.path \n",
    "from tabulate import tabulate #to export in table format"
   ]
  },
  {
   "cell_type": "code",
   "execution_count": 2,
   "metadata": {},
   "outputs": [],
   "source": [
    "kernel = 0.1 * RBF(length_scale=5, length_scale_bounds=(0.01, 10))"
   ]
  },
  {
   "cell_type": "code",
   "execution_count": 3,
   "metadata": {},
   "outputs": [],
   "source": [
    "X_ = np.linspace(-10, 50, 60 + 1)\n",
    "wave = np.linspace(3300, 8500, 520 + 1)\n",
    "list_data = [[]for y in range(0,521)]"
   ]
  },
  {
   "cell_type": "code",
   "execution_count": 4,
   "metadata": {},
   "outputs": [],
   "source": [
    "sn_names = glob.glob(\"/home/joao/Documentos/templates/data_ext/SN2012fr*.dat\")"
   ]
  },
  {
   "cell_type": "code",
   "execution_count": 5,
   "metadata": {},
   "outputs": [
    {
     "data": {
      "text/plain": [
       "20"
      ]
     },
     "execution_count": 5,
     "metadata": {},
     "output_type": "execute_result"
    }
   ],
   "source": [
    "len(sn_names)"
   ]
  },
  {
   "cell_type": "code",
   "execution_count": 6,
   "metadata": {},
   "outputs": [],
   "source": [
    "for i in range(0,len(sn_names)):\n",
    "\n",
    "    y = []\n",
    "    z = []\n",
    "\n",
    "    file = open(sn_names[i])\n",
    "    lines = file.readlines()\n",
    "    file.close()\n",
    "\n",
    "    for line in lines:\n",
    "        if line.startswith('#'): continue\n",
    "        co=line.rstrip().replace('INDEF','Nan').split()\n",
    "\n",
    "        y.append(co[0])\n",
    "        z.append(co[1])\n",
    "\n",
    "\n",
    "    #y = np.array(y, dtype=float)\n",
    "    z = np.array(z, dtype=float)\n",
    "\n",
    "    timetemp = lines[0]\n",
    "    timetemp = timetemp[:-1]\n",
    "    timetemp = float(timetemp[1:])\n",
    "\n",
    "    f = max(z)\n",
    "\n",
    "    for jj in range(0,len(z)):\n",
    "\n",
    "        list_data[jj].append([timetemp,z[jj]])\n"
   ]
  },
  {
   "cell_type": "code",
   "execution_count": 7,
   "metadata": {},
   "outputs": [],
   "source": [
    "jj=150"
   ]
  },
  {
   "cell_type": "code",
   "execution_count": 8,
   "metadata": {},
   "outputs": [
    {
     "data": {
      "text/plain": [
       "4800.0"
      ]
     },
     "execution_count": 8,
     "metadata": {},
     "output_type": "execute_result"
    }
   ],
   "source": [
    "wave[jj]"
   ]
  },
  {
   "cell_type": "code",
   "execution_count": 9,
   "metadata": {},
   "outputs": [],
   "source": [
    "yy = []\n",
    "zz = []\n",
    "yyscatter = []\n",
    "\n",
    "for k in range(0,len(list_data[jj])):\n",
    "\n",
    "    yy.append([list_data[jj][k][0]])\n",
    "    yyscatter.append(list_data[jj][k][0])\n",
    "    zz.append(list_data[jj][k][1])\n",
    "\n",
    "ff = max(zz)\n",
    "\n",
    "zz = zz/ff\n",
    "\n",
    "gp = GaussianProcessRegressor(kernel=kernel, alpha=0.0).fit(yy, zz)\n",
    "y_mean,y_cov = gp.predict(X_[:, np.newaxis], return_cov=True)\n",
    "val_score = gp.score(yy, zz)"
   ]
  },
  {
   "cell_type": "code",
   "execution_count": 12,
   "metadata": {},
   "outputs": [
    {
     "data": {
      "image/png": "[encoded data removed]",
      "text/plain": [
       "<Figure size 432x288 with 1 Axes>"
      ]
     },
     "metadata": {
      "needs_background": "light"
     },
     "output_type": "display_data"
    }
   ],
   "source": [
    "%matplotlib inline\n",
    "plt.plot(X_, y_mean, 'k', lw=3, zorder=9)\n",
    "plt.fill_between(X_, y_mean - np.sqrt(np.diag(y_cov)),\n",
    "                 y_mean + np.sqrt(np.diag(y_cov)),\n",
    "                 alpha=0.5, color='k')\n",
    "plt.plot(yyscatter,zz, 'ro')\n",
    "#plt.ylim(0,0.025)\n",
    "plt.show()"
   ]
  },
  {
   "cell_type": "code",
   "execution_count": 11,
   "metadata": {},
   "outputs": [
    {
     "data": {
      "text/plain": [
       "0.9971768416740878"
      ]
     },
     "execution_count": 11,
     "metadata": {},
     "output_type": "execute_result"
    }
   ],
   "source": [
    "val_score"
   ]
  },
  {
   "cell_type": "code",
   "execution_count": null,
   "metadata": {},
   "outputs": [],
   "source": []
  }
 ],
 "metadata": {
  "kernelspec": {
   "display_name": "Python 3",
   "language": "python",
   "name": "python3"
  },
  "language_info": {
   "codemirror_mode": {
    "name": "ipython",
    "version": 3
   },
   "file_extension": ".py",
   "mimetype": "text/x-python",
   "name": "python",
   "nbconvert_exporter": "python",
   "pygments_lexer": "ipython3",
   "version": "3.6.9"
  }
 },
 "nbformat": 4,
 "nbformat_minor": 2
}

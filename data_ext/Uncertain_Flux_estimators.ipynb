{
 "cells": [
  {
   "cell_type": "code",
   "execution_count": 1,
   "metadata": {},
   "outputs": [],
   "source": [
    "import numpy as np\n",
    "import glob\n",
    "import matplotlib.pyplot as plt\n",
    "%matplotlib inline"
   ]
  },
  {
   "cell_type": "code",
   "execution_count": 2,
   "metadata": {},
   "outputs": [
    {
     "data": {
      "text/plain": [
       "'SN2012fr'"
      ]
     },
     "execution_count": 2,
     "metadata": {},
     "output_type": "execute_result"
    }
   ],
   "source": [
    "sn_name = 'SN2012fr'\n",
    "sn_name"
   ]
  },
  {
   "cell_type": "code",
   "execution_count": 3,
   "metadata": {},
   "outputs": [
    {
     "data": {
      "text/plain": [
       "['SN2012fr19.dat',\n",
       " 'SN2012fr2.dat',\n",
       " 'SN2012fr10.dat',\n",
       " 'SN2012fr3.dat',\n",
       " 'SN2012fr0.dat',\n",
       " 'SN2012fr4.dat',\n",
       " 'SN2012fr7.dat',\n",
       " 'SN2012fr1.dat',\n",
       " 'SN2012fr17.dat',\n",
       " 'SN2012fr16.dat',\n",
       " 'SN2012fr13.dat',\n",
       " 'SN2012fr15.dat',\n",
       " 'SN2012fr5.dat',\n",
       " 'SN2012fr12.dat',\n",
       " 'SN2012fr11.dat',\n",
       " 'SN2012fr18.dat',\n",
       " 'SN2012fr14.dat',\n",
       " 'SN2012fr9.dat',\n",
       " 'SN2012fr6.dat',\n",
       " 'SN2012fr8.dat']"
      ]
     },
     "execution_count": 3,
     "metadata": {},
     "output_type": "execute_result"
    }
   ],
   "source": [
    "sn_files = glob.glob(sn_name + '*.dat')\n",
    "sn_files"
   ]
  },
  {
   "cell_type": "code",
   "execution_count": 4,
   "metadata": {},
   "outputs": [],
   "source": [
    "spec_time = []\n",
    "for i in range(0, len(sn_files)):\n",
    "    \n",
    "    file = open(sn_files[i])\n",
    "    lines = file.readlines()\n",
    "    file.close()\n",
    "    \n",
    "    time_temp = lines[0]\n",
    "    time_temp = time_temp[:-1]\n",
    "    time_temp = float(time_temp[1:])\n",
    "    \n",
    "    spec_time.append(time_temp)"
   ]
  },
  {
   "cell_type": "code",
   "execution_count": 5,
   "metadata": {},
   "outputs": [
    {
     "data": {
      "text/plain": [
       "[1.8897951064267506,\n",
       " 11.836085140244135,\n",
       " 45.653471255223245,\n",
       " 53.61050328227716,\n",
       " 21.78237517406152,\n",
       " -3.083349910481942,\n",
       " 5.868311119953705,\n",
       " -8.056494927390634,\n",
       " 35.70718122140586,\n",
       " 9.846827133480659,\n",
       " 2.884424109808489,\n",
       " -7.061865924008896,\n",
       " 69.52456733638498,\n",
       " -1.094091903718465,\n",
       " 7.857569126717181,\n",
       " -5.072607917245419,\n",
       " 28.74477819773369,\n",
       " 61.56753530933106,\n",
       " 15.81460115377109,\n",
       " 32.723294211260644]"
      ]
     },
     "execution_count": 5,
     "metadata": {},
     "output_type": "execute_result"
    }
   ],
   "source": [
    "spec_time"
   ]
  },
  {
   "cell_type": "code",
   "execution_count": 16,
   "metadata": {},
   "outputs": [],
   "source": [
    "# wave grid\n",
    "wave_grid = np.linspace(3000, 9000, 200 + 1)\n",
    "\n",
    "# spliting our data to compare\n",
    "sn_train = spec_time[-1:]\n",
    "#spec_time_train = spec_time[1::]\n",
    "\n",
    "# our data array\n",
    "data = []\n",
    "spec_time_train = []\n",
    "for i in range(0, len(wave_grid)):\n",
    "    \n",
    "    data.append([])\n",
    "    spec_time_train.append([])\n",
    "\n",
    "# select our training data\n",
    "for i in range(0, len(sn_train)):\n",
    "    \n",
    "    flux = []\n",
    "    \n",
    "    file = open(sn_files[i])\n",
    "    lines = file.readlines()\n",
    "    file.close()\n",
    "    \n",
    "    #time of the spectra\n",
    "    time_temp = lines[0]\n",
    "    time_temp = time_temp[:-1]\n",
    "    time_temp = float(time_temp[1:])\n",
    "    \n",
    "    for line in lines:\n",
    "        if line.startswith('#'): continue\n",
    "        co=line.rstrip().replace('INDEF','Nan').split()\n",
    "\n",
    "        #flux values\n",
    "        flux.append(float(co[1]))\n",
    "    \n",
    "    \n",
    "    for j in range(0, len(flux)):\n",
    "        \n",
    "        if flux[j] > 10**(-64):\n",
    "            data[j].append(flux[j])\n",
    "            spec_time_train[j].append(time_temp)"
   ]
  },
  {
   "cell_type": "code",
   "execution_count": 17,
   "metadata": {},
   "outputs": [],
   "source": [
    "#plt.plot(spec_time_train[150], data[150], 'k.')\n",
    "#plt.xlabel('time (days)')\n",
    "#plt.ylabel('flux (erg/s/$\\AA$/cm^2)'); # be carefull! not exacly in this unit"
   ]
  },
  {
   "cell_type": "code",
   "execution_count": 18,
   "metadata": {},
   "outputs": [],
   "source": [
    "# import gaussian process library\n",
    "from sklearn.gaussian_process import GaussianProcessRegressor\n",
    "from sklearn.gaussian_process.kernels import RBF, WhiteKernel\n",
    "\n",
    "#define a kernel\n",
    "kernel = 0.5 * (RBF(length_scale=5, length_scale_bounds=(1, 10)) + WhiteKernel(noise_level=0.1, noise_level_bounds=(1e-5,0.5)))"
   ]
  },
  {
   "cell_type": "code",
   "execution_count": 19,
   "metadata": {},
   "outputs": [],
   "source": [
    "#fit our splitted data\n",
    "X_ = np.array([spec_time[0]])\n",
    "#X_ = np.linspace(-10, 50, 60 + 1)"
   ]
  },
  {
   "cell_type": "code",
   "execution_count": 20,
   "metadata": {},
   "outputs": [],
   "source": [
    "fitted_model_wave = []\n",
    "fitted_model_flux = []\n",
    "fitted_model_flux_un = []"
   ]
  },
  {
   "cell_type": "code",
   "execution_count": 21,
   "metadata": {},
   "outputs": [],
   "source": [
    "for n in range(0, len(spec_time_train)):\n",
    "    \n",
    "    # number of data must be greater than 4\n",
    "    if len(spec_time_train[n]) > 4:\n",
    "\n",
    "        X_train = []\n",
    "        #sk-learn format \n",
    "        for i in range(0, len(spec_time_train[n])):\n",
    "\n",
    "            X_train.append([spec_time_train[n][i]])\n",
    "\n",
    "        y_train = data[n]\n",
    "\n",
    "        factor = max(y_train)\n",
    "        y_train = np.array(y_train)/factor # normalize to fit\n",
    "\n",
    "        \n",
    "        # gaussian process and its prediction\n",
    "        gp = GaussianProcessRegressor(kernel=kernel, alpha=0.0).fit(X_train, y_train)\n",
    "        y_mean, y_cov = gp.predict(X_[:, np.newaxis], return_cov=True) \n",
    "        \n",
    "        #print(max(y_mean))\n",
    "        fitted_model_wave.append(wave_grid[n])\n",
    "        fitted_model_flux.append(y_mean[0]*factor)\n",
    "        fitted_model_flux_un.append(np.sqrt(np.diag(y_cov))[0]*factor)"
   ]
  },
  {
   "cell_type": "code",
   "execution_count": 22,
   "metadata": {},
   "outputs": [],
   "source": [
    "# real data\n",
    "\n",
    "real_spec_x = []\n",
    "real_spec_y = []\n",
    "\n",
    "file = open(sn_files[0])\n",
    "lines = file.readlines()\n",
    "file.close()\n",
    "    \n",
    "for line in lines:\n",
    "    if line.startswith('#'): continue\n",
    "    co=line.rstrip().replace('INDEF','Nan').split()\n",
    "\n",
    "    #flux values\n",
    "    real_spec_x.append(float(co[0]))\n",
    "    real_spec_y.append(float(co[1]))\n",
    "    "
   ]
  },
  {
   "cell_type": "code",
   "execution_count": 13,
   "metadata": {},
   "outputs": [],
   "source": [
    "# difference between them\n",
    "from scipy.interpolate import interp1d\n",
    "\n",
    "interp_real = interp1d(real_spec_x, real_spec_y)\n",
    "interp_sintetic = interp1d(fitted_model_wave, fitted_model_flux)\n",
    "\n",
    "diff = lambda x: abs((interp_real(x) - interp_sintetic(x)) / interp_real(x))\n",
    "plot_grid = np.linspace(3500, 8000, 200 + 1)"
   ]
  },
  {
   "cell_type": "code",
   "execution_count": 14,
   "metadata": {},
   "outputs": [
    {
     "data": {
      "image/png": "[encoded data removed]",
      "text/plain": [
       "<Figure size 864x576 with 2 Axes>"
      ]
     },
     "metadata": {
      "needs_background": "light"
     },
     "output_type": "display_data"
    }
   ],
   "source": [
    "figure, axes = plt.subplots(2, 1, gridspec_kw={'height_ratios': [3, 1]}, sharex=True, figsize=(12,8))\n",
    "plt.rcParams.update({\"font.size\": 15})\n",
    "\n",
    "axes[0].fill_between(fitted_model_wave, np.array(fitted_model_flux) + np.array(fitted_model_flux_un),  np.array(fitted_model_flux) - np.array(fitted_model_flux_un), alpha=0.4, color='r', label='espectro reconstruído')\n",
    "axes[0].plot(fitted_model_wave, np.array(fitted_model_flux), 'r', lw=3, zorder=9)\n",
    "axes[0].plot(real_spec_x, real_spec_y, 'k.', label='pontos experimentais')\n",
    "axes[0].set_yticklabels([])\n",
    "#axes[0].set_xlabel('wavelenght ($\\AA$)')\n",
    "axes[0].set_ylabel('Fluxo normalizado')\n",
    "axes[0].legend(loc=\"upper right\")\n",
    "axes[0].set_xlim(3500, 8000)\n",
    "\n",
    "axes[1].plot(plot_grid, diff(plot_grid), color = 'r')\n",
    "\n",
    "axes[1].set_xlabel('$\\lambda$ ($\\AA$)')\n",
    "axes[1].set_ylabel('disc. relativa')\n",
    "plt.subplots_adjust(bottom=0.15)\n",
    "\n",
    "figure.savefig('/home/joao/Desktop/SN2012fr_t_32_7.png', dpi=200)"
   ]
  },
  {
   "cell_type": "code",
   "execution_count": 15,
   "metadata": {},
   "outputs": [
    {
     "data": {
      "text/plain": [
       "array([ True,  True, False, False, False,  True,  True,  True,  True,\n",
       "        True, False, False, False, False, False, False, False, False,\n",
       "       False, False, False, False, False, False, False, False, False,\n",
       "       False, False, False, False, False, False, False, False, False,\n",
       "       False, False, False, False, False, False, False, False, False,\n",
       "       False, False, False, False, False, False, False, False, False,\n",
       "       False, False, False, False, False, False, False, False, False,\n",
       "       False, False, False, False, False, False, False, False, False,\n",
       "       False, False, False, False, False, False, False, False, False,\n",
       "       False, False, False, False, False, False, False, False, False,\n",
       "       False, False, False, False, False, False, False, False, False,\n",
       "       False, False, False, False, False, False, False, False, False,\n",
       "       False, False, False, False, False, False, False, False, False,\n",
       "       False, False, False, False, False, False, False, False, False,\n",
       "       False, False, False, False, False, False, False, False, False,\n",
       "       False, False, False, False, False, False, False, False, False,\n",
       "       False, False, False, False, False, False, False, False, False,\n",
       "       False, False, False, False, False, False, False, False, False,\n",
       "       False, False, False, False, False, False, False, False, False,\n",
       "       False, False, False, False, False, False, False, False, False,\n",
       "       False, False, False, False, False, False, False, False, False,\n",
       "       False, False, False, False, False, False, False, False, False,\n",
       "       False, False, False])"
      ]
     },
     "execution_count": 15,
     "metadata": {},
     "output_type": "execute_result"
    }
   ],
   "source": [
    "diff(plot_grid) > 0.2"
   ]
  },
  {
   "cell_type": "code",
   "execution_count": null,
   "metadata": {},
   "outputs": [],
   "source": []
  }
 ],
 "metadata": {
  "kernelspec": {
   "display_name": "Python 3",
   "language": "python",
   "name": "python3"
  },
  "language_info": {
   "codemirror_mode": {
    "name": "ipython",
    "version": 3
   },
   "file_extension": ".py",
   "mimetype": "text/x-python",
   "name": "python",
   "nbconvert_exporter": "python",
   "pygments_lexer": "ipython3",
   "version": "3.6.9"
  }
 },
 "nbformat": 4,
 "nbformat_minor": 4
}

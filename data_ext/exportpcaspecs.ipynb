{
 "cells": [
  {
   "cell_type": "code",
   "execution_count": 1,
   "metadata": {},
   "outputs": [],
   "source": [
    "import glob #to read the files\n",
    "import numpy as np\n",
    "import matplotlib.pyplot as plt\n",
    "from mpl_toolkits.mplot3d import axes3d\n",
    "from sklearn.gaussian_process import GaussianProcessRegressor\n",
    "from sklearn.gaussian_process.kernels import RBF, WhiteKernel\n",
    "from scipy.interpolate import interp1d\n",
    "import os.path \n",
    "from tabulate import tabulate #to export in table format\n",
    "from scipy.interpolate import interp1d\n",
    "from scipy.optimize import fmin"
   ]
  },
  {
   "cell_type": "code",
   "execution_count": 2,
   "metadata": {},
   "outputs": [],
   "source": [
    "#kernel = [0.5 * RBF(length_scale=5, length_scale_bounds=(1, 20)) + WhiteKernel(noise_level=0.1, noise_level_bounds=(1e-5,0.5)), 0.5 * RBF(length_scale=20, length_scale_bounds=(1, 30)) + WhiteKernel(noise_level=0.1, noise_level_bounds=(1e-5,0.5)), 0.5 * RBF(length_scale=1, length_scale_bounds=(1, 10)) + WhiteKernel(noise_level=0.1, noise_level_bounds=(1e-5,0.5)), 0.5 * RBF(length_scale=5, length_scale_bounds=(1, 10)) + WhiteKernel(noise_level=0.1, noise_level_bounds=(1e-5,0.5)), 0.5 * RBF(length_scale=15, length_scale_bounds=(10, 20)) + WhiteKernel(noise_level=0.1, noise_level_bounds=(1e-5,0.5))]"
   ]
  },
  {
   "cell_type": "code",
   "execution_count": 3,
   "metadata": {},
   "outputs": [],
   "source": [
    "kernel = 0.5 * (RBF(length_scale=5, length_scale_bounds=(1, 10)) + WhiteKernel(noise_level=0.1, noise_level_bounds=(1e-5,0.5)))"
   ]
  },
  {
   "cell_type": "code",
   "execution_count": 4,
   "metadata": {},
   "outputs": [],
   "source": [
    "X_ = np.linspace(-10, 50, 60 + 1)\n",
    "#xmin = np.linspace(-5, 5, 3)\n",
    "wave = np.linspace(3000, 9000, 200 + 1)\n",
    "save_path = '/home/joao/Documents/'"
   ]
  },
  {
   "cell_type": "code",
   "execution_count": 5,
   "metadata": {},
   "outputs": [],
   "source": [
    "file = open(\"treinamento.txt\")\n",
    "lines = file.readlines()\n",
    "file.close()"
   ]
  },
  {
   "cell_type": "code",
   "execution_count": 6,
   "metadata": {},
   "outputs": [],
   "source": [
    "training_set = []"
   ]
  },
  {
   "cell_type": "code",
   "execution_count": 7,
   "metadata": {},
   "outputs": [],
   "source": [
    "for line in lines:\n",
    "    if line.startswith('#'): continue\n",
    "    co=line.rstrip().replace('INDEF','Nan').split()\n",
    "\n",
    "    training_set.append(co[0])"
   ]
  },
  {
   "cell_type": "code",
   "execution_count": 8,
   "metadata": {
    "scrolled": true
   },
   "outputs": [],
   "source": [
    "training_set = ['SN2012fr']"
   ]
  },
  {
   "cell_type": "code",
   "execution_count": 9,
   "metadata": {
    "scrolled": true
   },
   "outputs": [
    {
     "name": "stdout",
     "output_type": "stream",
     "text": [
      "SN2012fr\n"
     ]
    }
   ],
   "source": [
    "for j in range(0,len(training_set)):\n",
    "    \n",
    "    list_data = [[[],[]] for y in range(0,201)]\n",
    "    \n",
    "    sn_names=glob.glob(\"/home/joao/Documents/pesquisa/templates/data_ext/\"+training_set[j]+\"*\"+\".dat\")\n",
    "    \n",
    "    \n",
    "    \n",
    "    for p in range(0,len(sn_names)):\n",
    "\n",
    "        sn_names[p] = sn_names[p][49:]\n",
    "    \n",
    "    #print(sn_names)\n",
    "    \n",
    "    print(training_set[j])\n",
    "    \n",
    "    #print(sn_names)\n",
    "    \n",
    "    if len(sn_names) > 4:\n",
    "        \n",
    "        for i in range(0,len(sn_names)):\n",
    "\n",
    "            #y = []\n",
    "            z = []\n",
    "\n",
    "            file = open(sn_names[i])\n",
    "            lines = file.readlines()\n",
    "            file.close()\n",
    "\n",
    "            for line in lines:\n",
    "                if line.startswith('#'): continue\n",
    "                co=line.rstrip().replace('INDEF','Nan').split()\n",
    "\n",
    "                #y.append(co[0])\n",
    "                z.append(co[1])\n",
    "        \n",
    "\n",
    "            #y = np.array(y, dtype=float)\n",
    "            z = np.array(z, dtype=float)\n",
    "            #print(z)\n",
    "            \n",
    "            \n",
    "            for l in range(0,len(z)):\n",
    "                \n",
    "                if z[l] < 10**(-64):\n",
    "                    \n",
    "                     z[l] = 0\n",
    "            \n",
    "            \n",
    "            timetemp = lines[0]\n",
    "            timetemp = timetemp[:-1]\n",
    "            timetemp = float(timetemp[1:])\n",
    "            \n",
    "            for jj in range(0,len(z)):\n",
    "                \n",
    "                list_data[jj][0].append([timetemp])\n",
    "                list_data[jj][1].append(z[jj])\n",
    "\n",
    "            #print(i)\n",
    "            \n",
    "        Export = []\n",
    "        Export_cov = []\n",
    "\n",
    "        for jj in range(0,len(list_data)):\n",
    "            \n",
    "            X_mod = []\n",
    "            \n",
    "            Y_mean_mod = []\n",
    "            \n",
    "            count = 0\n",
    "            \n",
    "            for jjj in range(0,len(list_data[jj][1])):\n",
    "                \n",
    "                if list_data[jj][1][jjj] > 10**(-64):\n",
    "                    \n",
    "                    count += 1        \n",
    "                    \n",
    "            #print(count/len(list_data[jj][1]))\n",
    "            \n",
    "            if count > 4:\n",
    "                \n",
    "                \n",
    "                \n",
    "                for ii in range(0,len(list_data[jj][1])):\n",
    "                    \n",
    "                    if list_data[jj][1][ii] > 10**(-64):\n",
    "                        \n",
    "                        Y_mean_mod.append(list_data[jj][1][ii])\n",
    "                        X_mod.append(list_data[jj][0][ii])\n",
    "                    \n",
    "                    \n",
    "\n",
    "                #option = []\n",
    "                #score = []  \n",
    "\n",
    "                #print(list_data[jj][1])\n",
    "                ff = max(Y_mean_mod)\n",
    "                #print(ff)\n",
    "                Y_mean_mod = Y_mean_mod/ff\n",
    "\n",
    "                gp = GaussianProcessRegressor(kernel=kernel, alpha=0.0).fit(X_mod, Y_mean_mod)\n",
    "                y_mean, y_cov = gp.predict(X_[:, np.newaxis], return_cov=True)        \n",
    "                \n",
    "                #print(y_cov)\n",
    "\n",
    "                for l in range(0,len(y_mean)):\n",
    "\n",
    "                    Export.append(y_mean[l]*ff)\n",
    "                    Export_cov.append(np.sqrt(np.diag(y_cov))[l]*ff)\n",
    "\n",
    "\n",
    "            else:\n",
    "\n",
    "                y_meaneff = [0 for y in range(0,61)]\n",
    "                #print(len(y_mean), len(X_))\n",
    "\n",
    "                for l in range(0,len(y_meaneff)):\n",
    "\n",
    "                    Export.append(y_meaneff[l])\n",
    "                    Export_cov.append(0)\n",
    "             \n",
    "\n",
    "        table = []\n",
    "        for l in range(0,len(Export)):\n",
    "            #table.append((Export[l],training_set[j]))\n",
    "            table.append((Export[l], Export_cov[l]))\n",
    "\n",
    "        name_of_file = training_set[j]\n",
    "\n",
    "        completeName = os.path.join(save_path, name_of_file+\"_diss.dat\")\n",
    "\n",
    "        f = open(completeName, 'w')\n",
    "        f.write(tabulate(table, tablefmt=\"plain\"))\n",
    "        f.close()\n"
   ]
  },
  {
   "cell_type": "code",
   "execution_count": 10,
   "metadata": {},
   "outputs": [
    {
     "data": {
      "text/plain": [
       "array([[ 7.44688839e-03,  3.39286803e-03,  2.27338496e-03, ...,\n",
       "        -1.85797967e-06, -6.29313122e-06, -9.28093236e-06],\n",
       "       [ 3.39286803e-03,  5.38892469e-03,  1.85269224e-03, ...,\n",
       "         3.99189261e-07, -2.45394144e-06, -4.57078020e-06],\n",
       "       [ 2.27338496e-03,  1.85269224e-03,  4.24314260e-03, ...,\n",
       "         1.76981330e-06,  4.92854385e-07, -6.48939560e-07],\n",
       "       ...,\n",
       "       [-1.85797967e-06,  3.99189261e-07,  1.76981330e-06, ...,\n",
       "         5.05664668e-03,  2.20992428e-03,  2.08181762e-03],\n",
       "       [-6.29313122e-06, -2.45394144e-06,  4.92854385e-07, ...,\n",
       "         2.20992428e-03,  5.05965943e-03,  2.22619505e-03],\n",
       "       [-9.28093236e-06, -4.57078020e-06, -6.48939560e-07, ...,\n",
       "         2.08181762e-03,  2.22619505e-03,  5.08403674e-03]])"
      ]
     },
     "execution_count": 10,
     "metadata": {},
     "output_type": "execute_result"
    }
   ],
   "source": [
    "y_cov"
   ]
  },
  {
   "cell_type": "code",
   "execution_count": null,
   "metadata": {},
   "outputs": [],
   "source": []
  }
 ],
 "metadata": {
  "kernelspec": {
   "display_name": "Python 3",
   "language": "python",
   "name": "python3"
  },
  "language_info": {
   "codemirror_mode": {
    "name": "ipython",
    "version": 3
   },
   "file_extension": ".py",
   "mimetype": "text/x-python",
   "name": "python",
   "nbconvert_exporter": "python",
   "pygments_lexer": "ipython3",
   "version": "3.9.4"
  }
 },
 "nbformat": 4,
 "nbformat_minor": 2
}

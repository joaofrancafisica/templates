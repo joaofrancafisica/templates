{
 "cells": [
  {
   "cell_type": "code",
   "execution_count": 1,
   "metadata": {},
   "outputs": [],
   "source": [
    "import glob #to read the files\n",
    "import numpy as np\n",
    "import matplotlib.pyplot as plt\n",
    "from mpl_toolkits.mplot3d import axes3d\n",
    "from sklearn.gaussian_process import GaussianProcessRegressor\n",
    "from sklearn.gaussian_process.kernels import RBF, WhiteKernel\n",
    "from scipy.interpolate import interp1d\n",
    "import os.path \n",
    "from tabulate import tabulate #to export in table format"
   ]
  },
  {
   "cell_type": "code",
   "execution_count": 2,
   "metadata": {},
   "outputs": [],
   "source": [
    "X_ = np.linspace(-10, 50, 60 + 1)\n",
    "wave = np.linspace(3300, 8500, 520 + 1)\n",
    "list_data = [[]for y in range(0,521)]\n",
    "save_path = '/home/joao/Documentos/PCA'"
   ]
  },
  {
   "cell_type": "code",
   "execution_count": 3,
   "metadata": {},
   "outputs": [],
   "source": [
    "file = open(\"names.txt\")\n",
    "lines = file.readlines()\n",
    "file.close()"
   ]
  },
  {
   "cell_type": "code",
   "execution_count": 4,
   "metadata": {},
   "outputs": [],
   "source": [
    "training_set = []"
   ]
  },
  {
   "cell_type": "code",
   "execution_count": 5,
   "metadata": {},
   "outputs": [],
   "source": [
    "for line in lines:\n",
    "    if line.startswith('#'): continue\n",
    "    co=line.rstrip().replace('INDEF','Nan').split()\n",
    "\n",
    "    training_set.append(co[0])"
   ]
  },
  {
   "cell_type": "code",
   "execution_count": 6,
   "metadata": {},
   "outputs": [],
   "source": [
    "score = []"
   ]
  },
  {
   "cell_type": "code",
   "execution_count": null,
   "metadata": {},
   "outputs": [
    {
     "name": "stdout",
     "output_type": "stream",
     "text": [
      "SN2012fr\n",
      "[]\n",
      "SN2005cf\n",
      "['SN2005cf3.dat', 'SN2005cf27.dat', 'SN2005cf13.dat', 'SN2005cf0.dat', 'SN2005cf22.dat', 'SN2005cf5.dat', 'SN2005cf4.dat', 'SN2005cf28.dat', 'SN2005cf16.dat', 'SN2005cf33.dat', 'SN2005cf35.dat', 'SN2005cf17.dat', 'SN2005cf12.dat', 'SN2005cf7.dat', 'SN2005cf21.dat', 'SN2005cf11.dat', 'SN2005cf34.dat', 'SN2005cf25.dat', 'SN2005cf6.dat', 'SN2005cf9.dat', 'SN2005cf15.dat', 'SN2005cf14.dat', 'SN2005cf18.dat', 'SN2005cf32.dat', 'SN2005cf10.dat', 'SN2005cf30.dat', 'SN2005cf26.dat']\n",
      "SN2001V\n",
      "['SN2001V17.dat', 'SN2001V5.dat', 'SN2001V12.dat', 'SN2001V34.dat', 'SN2001V7.dat', 'SN2001V33.dat', 'SN2001V29.dat', 'SN2001V18.dat', 'SN2001V37.dat', 'SN2001V25.dat', 'SN2001V10.dat', 'SN2001V26.dat', 'SN2001V31.dat', 'SN2001V11.dat', 'SN2001V9.dat', 'SN2001V1.dat', 'SN2001V21.dat', 'SN2001V24.dat', 'SN2001V36.dat', 'SN2001V14.dat', 'SN2001V27.dat', 'SN2001V30.dat', 'SN2001V4.dat', 'SN2001V16.dat', 'SN2001V32.dat', 'SN2001V19.dat', 'SN2001V3.dat', 'SN2001V6.dat', 'SN2001V15.dat', 'SN2001V22.dat', 'SN2001V35.dat', 'SN2001V20.dat', 'SN2001V2.dat', 'SN2001V23.dat']\n",
      "SN2003du\n",
      "['SN2003du21.dat', 'SN2003du1.dat', 'SN2003du20.dat', 'SN2003du7.dat', 'SN2003du18.dat', 'SN2003du5.dat', 'SN2003du9.dat', 'SN2003du4.dat', 'SN2003du17.dat', 'SN2003du0.dat', 'SN2003du13.dat', 'SN2003du3.dat', 'SN2003du19.dat', 'SN2003du14.dat', 'SN2003du12.dat', 'SN2003du10.dat', 'SN2003du8.dat', 'SN2003du6.dat', 'SN2003du22.dat', 'SN2003du11.dat']\n"
     ]
    }
   ],
   "source": [
    "for j in range(0,len(training_set)):\n",
    "\n",
    "    sn_names=glob.glob(\"/home/joao/Documentos/templates/data_ext/\"+training_set[j]+\"*\"+\".dat\")\n",
    "    \n",
    "    for p in range(0,len(sn_names)):\n",
    "\n",
    "        sn_names[p] = sn_names[p][41:]\n",
    "    \n",
    "    \n",
    "    print(training_set[j])\n",
    "    \n",
    "    print(sn_names)\n",
    "    \n",
    "    if len(sn_names) > 3:\n",
    "        \n",
    "        \n",
    "        \n",
    "        for i in range(0,len(sn_names)):\n",
    "\n",
    "            y = []\n",
    "            z = []\n",
    "\n",
    "            file = open(sn_names[i])\n",
    "            lines = file.readlines()\n",
    "            file.close()\n",
    "\n",
    "            for line in lines:\n",
    "                if line.startswith('#'): continue\n",
    "                co=line.rstrip().replace('INDEF','Nan').split()\n",
    "\n",
    "                y.append(co[0])\n",
    "                z.append(co[1])\n",
    "\n",
    "\n",
    "            #y = np.array(y, dtype=float)\n",
    "            z = np.array(z, dtype=float)\n",
    "\n",
    "            timetemp = lines[0]\n",
    "            timetemp = timetemp[:-1]\n",
    "            timetemp = float(timetemp[1:])\n",
    "\n",
    "            f = max(z)\n",
    "\n",
    "            for jj in range(0,len(z)):\n",
    "\n",
    "                list_data[jj].append([timetemp,z[jj]])\n",
    "\n",
    "            #print(i)\n",
    "\n",
    "        Export = []\n",
    "\n",
    "        for jj in range(0,len(list_data)):\n",
    "\n",
    "            yy = []\n",
    "            zz = []\n",
    "\n",
    "            for k in range(0,len(list_data[jj])):\n",
    "\n",
    "                yy.append([list_data[jj][k][0]])\n",
    "                zz.append(list_data[jj][k][1])\n",
    "\n",
    "            ff = max(zz)\n",
    "\n",
    "            zz = zz/ff\n",
    "\n",
    "            kernel = 1.0 * RBF(length_scale=1.0, length_scale_bounds=(0.01, 10)) + WhiteKernel(noise_level=1e-1, noise_level_bounds=(1e-10, 1e+1))\n",
    "\n",
    "            gp = GaussianProcessRegressor(kernel=kernel, alpha=0.0).fit(yy, zz)\n",
    "\n",
    "            val_score = gp.score(yy, zz)\n",
    "            score.append(val_score)\n",
    "\n",
    "            #y_mean = gp.predict(X_[:, np.newaxis])\n",
    "\n",
    "            #for l in range(0,len(y_mean)):\n",
    "\n",
    "                #Export.append(y_mean[l]*ff)\n",
    "        \n",
    "        \n",
    "        '''    \n",
    "        table = []\n",
    "        for l in range(0,len(Export)):\n",
    "            table.append((Export[l],training_set[j]))\n",
    "\n",
    "\n",
    "        name_of_file = training_set[j]\n",
    "\n",
    "        completeName = os.path.join(save_path, name_of_file+\".dat\")\n",
    "\n",
    "        f = open(completeName, 'w')  \n",
    "        f.write(tabulate(table, tablefmt=\"plain\"))\n",
    "        f.close()\n",
    "        '''"
   ]
  },
  {
   "cell_type": "code",
   "execution_count": null,
   "metadata": {},
   "outputs": [],
   "source": [
    "%matplotlib inline\n",
    "plt.hist(score, bins=30)\n",
    "plt.show()"
   ]
  }
 ],
 "metadata": {
  "kernelspec": {
   "display_name": "Python 3",
   "language": "python",
   "name": "python3"
  },
  "language_info": {
   "codemirror_mode": {
    "name": "ipython",
    "version": 3
   },
   "file_extension": ".py",
   "mimetype": "text/x-python",
   "name": "python",
   "nbconvert_exporter": "python",
   "pygments_lexer": "ipython3",
   "version": "3.6.9"
  }
 },
 "nbformat": 4,
 "nbformat_minor": 2
}

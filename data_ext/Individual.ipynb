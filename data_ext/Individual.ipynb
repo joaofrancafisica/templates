{
 "cells": [
  {
   "cell_type": "code",
   "execution_count": 1,
   "metadata": {},
   "outputs": [],
   "source": [
    "import glob #to read the files\n",
    "import numpy as np\n",
    "import matplotlib.pyplot as plt\n",
    "from mpl_toolkits.mplot3d import axes3d\n",
    "from sklearn.gaussian_process import GaussianProcessRegressor\n",
    "from sklearn.gaussian_process.kernels import RBF, WhiteKernel\n",
    "from scipy.interpolate import interp1d\n",
    "import os.path \n",
    "from tabulate import tabulate #to export in table format\n",
    "from scipy.optimize import fmin"
   ]
  },
  {
   "cell_type": "code",
   "execution_count": 2,
   "metadata": {},
   "outputs": [],
   "source": [
    "kernel = [0.5 * (RBF(length_scale=5, length_scale_bounds=(1, 10)) + WhiteKernel(noise_level=0.1, noise_level_bounds=(1e-5,0.5)))]"
   ]
  },
  {
   "cell_type": "code",
   "execution_count": 3,
   "metadata": {},
   "outputs": [
    {
     "data": {
      "text/plain": [
       "1"
      ]
     },
     "execution_count": 3,
     "metadata": {},
     "output_type": "execute_result"
    }
   ],
   "source": [
    "len(kernel)"
   ]
  },
  {
   "cell_type": "code",
   "execution_count": 4,
   "metadata": {},
   "outputs": [],
   "source": [
    "X_ = np.linspace(-20, 50, 70 + 1)\n",
    "wave = np.linspace(2000, 9200, 720 + 1)\n",
    "list_data = [[]for y in range(0,721)]"
   ]
  },
  {
   "cell_type": "code",
   "execution_count": 5,
   "metadata": {},
   "outputs": [],
   "source": [
    "sn_names = glob.glob(\"/home/joao/Documentos/templates/data_ext/SN2000cx*.dat\")"
   ]
  },
  {
   "cell_type": "code",
   "execution_count": 6,
   "metadata": {},
   "outputs": [
    {
     "data": {
      "text/plain": [
       "17"
      ]
     },
     "execution_count": 6,
     "metadata": {},
     "output_type": "execute_result"
    }
   ],
   "source": [
    "len(sn_names)"
   ]
  },
  {
   "cell_type": "code",
   "execution_count": 7,
   "metadata": {},
   "outputs": [],
   "source": [
    "for i in range(0,len(sn_names)):\n",
    "\n",
    "    y = []\n",
    "    z = []\n",
    "\n",
    "    file = open(sn_names[i])\n",
    "    lines = file.readlines()\n",
    "    file.close()\n",
    "\n",
    "    for line in lines:\n",
    "        if line.startswith('#'): continue\n",
    "        co=line.rstrip().replace('INDEF','Nan').split()\n",
    "\n",
    "        y.append(co[0])\n",
    "        z.append(co[1])\n",
    "\n",
    "\n",
    "    #y = np.array(y, dtype=float)\n",
    "    z = np.array(z, dtype=float)\n",
    "\n",
    "    timetemp = lines[0]\n",
    "    timetemp = timetemp[:-1]\n",
    "    timetemp = float(timetemp[1:])\n",
    "\n",
    "    f = max(z)\n",
    "\n",
    "    for jj in range(0,len(z)):\n",
    "\n",
    "        list_data[jj].append([timetemp,z[jj]])\n"
   ]
  },
  {
   "cell_type": "code",
   "execution_count": 8,
   "metadata": {},
   "outputs": [],
   "source": [
    "jj=400"
   ]
  },
  {
   "cell_type": "code",
   "execution_count": 9,
   "metadata": {},
   "outputs": [
    {
     "data": {
      "text/plain": [
       "6000.0"
      ]
     },
     "execution_count": 9,
     "metadata": {},
     "output_type": "execute_result"
    }
   ],
   "source": [
    "wave[jj]"
   ]
  },
  {
   "cell_type": "code",
   "execution_count": 10,
   "metadata": {},
   "outputs": [
    {
     "name": "stdout",
     "output_type": "stream",
     "text": [
      "0\n"
     ]
    }
   ],
   "source": [
    "yy = []\n",
    "zz = []\n",
    "yyscatter = []\n",
    "\n",
    "xmin = np.linspace(-10, 10, 11)\n",
    "option = []\n",
    "score = []\n",
    "\n",
    "for k in range(0,len(list_data[jj])):\n",
    "\n",
    "    yy.append([list_data[jj][k][0]])\n",
    "    yyscatter.append(list_data[jj][k][0])\n",
    "    zz.append(list_data[jj][k][1])\n",
    "\n",
    "ff = max(zz)\n",
    "#print(ff)\n",
    "zz = zz/ff\n",
    "\n",
    "for i in range(0,len(kernel)):\n",
    "    \n",
    "    print(i)\n",
    "    val = []\n",
    "    \n",
    "    gp = GaussianProcessRegressor(kernel=kernel[i], alpha=0).fit(yy, zz)\n",
    "    \n",
    "    y_mean,y_cov = gp.predict(X_[:, np.newaxis], return_cov=True)\n",
    "    val_score = gp.score(yy, zz)\n",
    "    \n",
    "    interpolation = interp1d(X_, y_mean, fill_value=\"extrapolate\")\n",
    "    \n",
    "    for j in range(0,len(xmin)):\n",
    "\n",
    "        xval = fmin(interpolation, xmin[j], disp=False)\n",
    "        \n",
    "        \n",
    "        if -10 < xval[0] < 10:\n",
    "            \n",
    "            val.append(xval[0])\n",
    "            \n",
    "            \n",
    "          \n",
    "    if len(val) == 0:\n",
    "        \n",
    "        score.append(val_score)\n",
    "        option.append(i)\n",
    "        \n",
    "    "
   ]
  },
  {
   "cell_type": "code",
   "execution_count": 11,
   "metadata": {},
   "outputs": [
    {
     "data": {
      "image/png": "[encoded data removed]",
      "text/plain": [
       "<Figure size 432x288 with 1 Axes>"
      ]
     },
     "metadata": {
      "needs_background": "light"
     },
     "output_type": "display_data"
    }
   ],
   "source": [
    "plt.plot(X_,y_mean)\n",
    "plt.plot(yy, zz,'ko')\n",
    "plt.xlim(-15, 50)\n",
    "plt.show()"
   ]
  },
  {
   "cell_type": "code",
   "execution_count": 12,
   "metadata": {},
   "outputs": [
    {
     "data": {
      "text/plain": [
       "[0.9839774508947348]"
      ]
     },
     "execution_count": 12,
     "metadata": {},
     "output_type": "execute_result"
    }
   ],
   "source": [
    "score"
   ]
  },
  {
   "cell_type": "code",
   "execution_count": 13,
   "metadata": {},
   "outputs": [
    {
     "data": {
      "text/plain": [
       "[0]"
      ]
     },
     "execution_count": 13,
     "metadata": {},
     "output_type": "execute_result"
    }
   ],
   "source": [
    "option"
   ]
  },
  {
   "cell_type": "code",
   "execution_count": 14,
   "metadata": {},
   "outputs": [
    {
     "data": {
      "text/plain": [
       "0.9839774508947348"
      ]
     },
     "execution_count": 14,
     "metadata": {},
     "output_type": "execute_result"
    }
   ],
   "source": [
    "max(score)"
   ]
  },
  {
   "cell_type": "code",
   "execution_count": null,
   "metadata": {},
   "outputs": [],
   "source": []
  }
 ],
 "metadata": {
  "kernelspec": {
   "display_name": "Python 3",
   "language": "python",
   "name": "python3"
  },
  "language_info": {
   "codemirror_mode": {
    "name": "ipython",
    "version": 3
   },
   "file_extension": ".py",
   "mimetype": "text/x-python",
   "name": "python",
   "nbconvert_exporter": "python",
   "pygments_lexer": "ipython3",
   "version": "3.6.9"
  }
 },
 "nbformat": 4,
 "nbformat_minor": 2
}

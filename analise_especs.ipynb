{
 "cells": [
  {
   "cell_type": "code",
   "execution_count": 1,
   "metadata": {},
   "outputs": [],
   "source": [
    "import glob #to read the files\n",
    "import json #to work if .json\n",
    "import numpy as np #to math\n",
    "import pandas as pd #to save the data\n",
    "import math #to convertion calculus\n",
    "from astropy.time import Time #to time converting\n",
    "from astropy import units #time correction\n",
    "from astropy.coordinates import SkyCoord #time correction\n",
    "from scipy import interpolate #to interpolate the wavelength and flux\n",
    "from tabulate import tabulate #to export in table format\n",
    "from scipy.interpolate import interp1d\n",
    "#import scipy.optimize as opt\n",
    "from scipy import optimize\n",
    "from scipy import signal\n",
    "import os.path\n",
    "import matplotlib.pyplot as plt\n",
    "from sklearn.gaussian_process import GaussianProcessRegressor\n",
    "from sklearn.gaussian_process.kernels import RBF, WhiteKernel\n",
    "from scipy import stats\n",
    "import os.path "
   ]
  },
  {
   "cell_type": "code",
   "execution_count": 2,
   "metadata": {},
   "outputs": [],
   "source": [
    "name = \"SN2000B.json\""
   ]
  },
  {
   "cell_type": "code",
   "execution_count": 3,
   "metadata": {},
   "outputs": [],
   "source": [
    "with open(name, \"r\") as read_file:\n",
    "    data = json.load(read_file)"
   ]
  },
  {
   "cell_type": "code",
   "execution_count": 4,
   "metadata": {},
   "outputs": [],
   "source": [
    "url = name\n",
    "if url.endswith('.json'):\n",
    "    url = url[:-5]"
   ]
  },
  {
   "cell_type": "code",
   "execution_count": 5,
   "metadata": {},
   "outputs": [],
   "source": [
    "%run ./functions.ipynb"
   ]
  },
  {
   "cell_type": "code",
   "execution_count": 6,
   "metadata": {},
   "outputs": [
    {
     "name": "stdout",
     "output_type": "stream",
     "text": [
      "0.01983\n"
     ]
    }
   ],
   "source": [
    "redshift = redshift_value(data[url])"
   ]
  },
  {
   "cell_type": "code",
   "execution_count": 7,
   "metadata": {},
   "outputs": [],
   "source": [
    "file = open(\"t0_values.txt\")\n",
    "lines = file.readlines()\n",
    "file.close()"
   ]
  },
  {
   "cell_type": "code",
   "execution_count": 8,
   "metadata": {},
   "outputs": [],
   "source": [
    "t0_names = []\n",
    "t0_values = []"
   ]
  },
  {
   "cell_type": "code",
   "execution_count": 9,
   "metadata": {},
   "outputs": [],
   "source": [
    "for line in lines:\n",
    "    if line.startswith('#'): continue\n",
    "    co=line.rstrip().replace('INDEF','Nan').split()\n",
    "\n",
    "    t0_names.append(co[0])\n",
    "    t0_values.append(co[1])"
   ]
  },
  {
   "cell_type": "code",
   "execution_count": 10,
   "metadata": {},
   "outputs": [
    {
     "name": "stdout",
     "output_type": "stream",
     "text": [
      "t0 calculado\n"
     ]
    }
   ],
   "source": [
    "if url in t0_names:\n",
    "    \n",
    "    idx = t0_names.index(name[:-5])\n",
    "    t0 = t0_values[idx]\n",
    "    print(\"t0 calculado\")\n",
    "    \n",
    "else:\n",
    "    \n",
    "    t0 = max_time(data[url])\n",
    "    \n",
    "    print(\"t0 fornecido\")"
   ]
  },
  {
   "cell_type": "code",
   "execution_count": 11,
   "metadata": {},
   "outputs": [
    {
     "data": {
      "text/plain": [
       "51564.0"
      ]
     },
     "execution_count": 11,
     "metadata": {},
     "output_type": "execute_result"
    }
   ],
   "source": [
    "max_time(data[url])"
   ]
  },
  {
   "cell_type": "code",
   "execution_count": 12,
   "metadata": {},
   "outputs": [
    {
     "data": {
      "text/plain": [
       "'51631.4'"
      ]
     },
     "execution_count": 12,
     "metadata": {},
     "output_type": "execute_result"
    }
   ],
   "source": [
    "t0"
   ]
  },
  {
   "cell_type": "code",
   "execution_count": 13,
   "metadata": {},
   "outputs": [
    {
     "data": {
      "text/plain": [
       "67.40000000000146"
      ]
     },
     "execution_count": 13,
     "metadata": {},
     "output_type": "execute_result"
    }
   ],
   "source": [
    "float(t0)-max_time(data[url])"
   ]
  },
  {
   "cell_type": "code",
   "execution_count": null,
   "metadata": {},
   "outputs": [],
   "source": [
    "units = []"
   ]
  },
  {
   "cell_type": "code",
   "execution_count": null,
   "metadata": {},
   "outputs": [],
   "source": [
    "if redshift is not None and t0 is not None:\n",
    "        \n",
    "    #spectra data\n",
    "    i=0\n",
    "    n=0\n",
    "    while i < len(data[url][\"spectra\"]):\n",
    "\n",
    "\n",
    "        if \"time\" in data[url][\"spectra\"][i]:\n",
    "\n",
    "            spectratime = float(data[url][\"spectra\"][i][\"time\"]) - float(t0)\n",
    "            #print(spectratime)\n",
    "\n",
    "        alert3 = 0\n",
    "        #if its the first spectra then previous time is the first time\n",
    "        if i == 0:\n",
    "            previoustime = spectratime\n",
    "\n",
    "        else:\n",
    "            #if the diference between the time and previous time is more than * days so emmit an alert to continue\n",
    "            if (spectratime - previoustime) < 2000:\n",
    "\n",
    "                alert3 = 1\n",
    "                previoustime = spectratime\n",
    "\n",
    "            #if the diference of time is less than * continue\n",
    "        if alert3 == 1:\n",
    "\n",
    "            #verifing if its calibrated and if it have a redshift correction \n",
    "            alert1 = 0 #for calibration\n",
    "            alert2 = 0 #for redshift correction\n",
    "\n",
    "            if data[url][\"spectra\"][i][\"u_fluxes\"] == \"erg/s/cm^2/Angstrom\":          \n",
    "                alert1 = 1 #first alert\n",
    "\n",
    "                if \"deredshifted\" in data[url][\"spectra\"][i]:\n",
    "                    alert2 = 1 #second alert\n",
    "\n",
    "            #if its calibrated and corrected\n",
    "            if alert1 == 1 and alert2 == 1:\n",
    "\n",
    "                #there are 3 collumns: wavelength flux and flux error \n",
    "                if len(data[url][\"spectra\"][i][\"data\"][0]) == 3:\n",
    "\n",
    "                    n = n + 1\n",
    "\n",
    "                #there are 2 collumns: wavelength and flux\n",
    "                elif len(data[url][\"spectra\"][i][\"data\"][0]) == 2:\n",
    "\n",
    "                    n = n + 1\n",
    "\n",
    "            #if its calibrated, redshift not adjusted but with a clear redshift\n",
    "            elif alert1 ==1 and alert2 == 0:   \n",
    "\n",
    "                #there are 3 collumns: wavelength flux and flux error \n",
    "                if len(data[url][\"spectra\"][i][\"data\"][0]) == 3:\n",
    "\n",
    "                    n = n + 1\n",
    "\n",
    "                #there are 2 collumns: wavelength and flux\n",
    "                elif len(data[url][\"spectra\"][i][\"data\"][0]) == 2:\n",
    "\n",
    "                    n = n + 1\n",
    "\n",
    "        i = i + 1"
   ]
  },
  {
   "cell_type": "code",
   "execution_count": null,
   "metadata": {},
   "outputs": [],
   "source": [
    "n"
   ]
  },
  {
   "cell_type": "code",
   "execution_count": null,
   "metadata": {},
   "outputs": [],
   "source": [
    "final_gradex = np.linspace(-20, 50, 71)\n",
    "final_gradey = np.linspace(2000, 9200, 721)"
   ]
  },
  {
   "cell_type": "code",
   "execution_count": null,
   "metadata": {
    "scrolled": false
   },
   "outputs": [],
   "source": [
    "x = []\n",
    "y = []\n",
    "times = []\n",
    "\n",
    "if n > 4:\n",
    "\n",
    "    #print(redshift)\n",
    "    spectra_data = 0\n",
    "    i=0\n",
    "    \n",
    "    while i < len(data[url][\"spectra\"]):\n",
    "\n",
    "        if \"time\" in data[url][\"spectra\"][i]:\n",
    "\n",
    "            spectratime = (float(data[url][\"spectra\"][i][\"time\"]) - float(t0))/(1+redshift)\n",
    "            #print(spectratime)\n",
    "            #verifing if its calibrated and if it have a redshift correction \n",
    "            alert1 = 0 #for calibration\n",
    "            alert2 = 0 #for redshift correction\n",
    "\n",
    "            if data[url][\"spectra\"][i][\"u_fluxes\"] == \"erg/s/cm^2/Angstrom\":          \n",
    "                alert1 = 1 #first alert\n",
    "\n",
    "                if \"deredshifted\" in data[url][\"spectra\"][i]:\n",
    "                    alert2 = 1 #second alert\n",
    "\n",
    "            #if its calibrated and corrected\n",
    "            if alert1 == 1 and alert2 == 1:\n",
    "                #print(\"ok\")\n",
    "                #there are 3 collumns: wavelength flux and flux error\n",
    "                if len(data[url][\"spectra\"][i][\"data\"][0]) == 3:\n",
    "\n",
    "                    df = pd.DataFrame(data[url][\"spectra\"][i][\"data\"], columns=['wavelength', 'flux', 'fluxerror'])\n",
    "\n",
    "                    #converting to float\n",
    "                    df['wavelength'] = df['wavelength'].astype(float)\n",
    "                    df['flux'] = df['flux'].astype(float)\n",
    "                    \n",
    "                    \n",
    "                    #sort the data by wavelength\n",
    "                    df = df.sort_values(by=['wavelength'])\n",
    "                    df = df.reset_index(drop=True)\n",
    "\n",
    "                    #to kill negative fluxes\n",
    "                    fluxtemp = []\n",
    "                    for var in range(0,len(df['flux'])):\n",
    "                        if (df['flux'][var] > 0):\n",
    "                            fluxtemp.append(df['flux'][var])\n",
    "                        else:\n",
    "                            fluxtemp.append(0)            \n",
    "         \n",
    "                    #making a list of lists \n",
    "                    \n",
    "                    suavf = suavization(fluxtemp)\n",
    "                            \n",
    "                    #if \"instrument\" in data[url][\"spectra\"][i]:\n",
    "\n",
    "                    #if data[url][\"spectra\"][i][\"instrument\"] == \"fast\":\n",
    "\n",
    "                    x.append(df['wavelength'])\n",
    "                    y.append(suavf)\n",
    "                    times.append(spectratime)\n",
    "\n",
    "                    units.append(data[url][\"spectra\"][i][\"u_fluxes\"]) \n",
    "                \n",
    "                \n",
    "                #there are 2 collumns: wavelength and flux\n",
    "                if len(data[url][\"spectra\"][i][\"data\"][0]) == 2:\n",
    "\n",
    "                    df = pd.DataFrame(data[url][\"spectra\"][i][\"data\"], columns=['wavelength', 'flux'])\n",
    "\n",
    "                    #converting to float\n",
    "                    df['wavelength'] = df['wavelength'].astype(float)\n",
    "                    df['flux'] = df['flux'].astype(float)\n",
    "                    \n",
    "                    \n",
    "                    #sort the data by wavelength\n",
    "                    df = df.sort_values(by=['wavelength'])\n",
    "                    df = df.reset_index(drop=True)\n",
    "\n",
    "                    #to kill negative fluxes\n",
    "                    fluxtemp = []\n",
    "                    for var in range(0,len(df['flux'])):\n",
    "                        if (df['flux'][var] > 0):\n",
    "                            fluxtemp.append(df['flux'][var])\n",
    "                        else:\n",
    "                            fluxtemp.append(0)            \n",
    "      \n",
    "                    #making a list of lists \n",
    "                    suavf = suavization(fluxtemp)\n",
    "            \n",
    "            \n",
    "                    #if \"instrument\" in data[url][\"spectra\"][i]:\n",
    "\n",
    "                    #if data[url][\"spectra\"][i][\"instrument\"] == \"fast\":\n",
    "\n",
    "                    x.append(df['wavelength'])\n",
    "                    y.append(suavf)\n",
    "                    times.append(spectratime)\n",
    "\n",
    "                    units.append(data[url][\"spectra\"][i][\"u_fluxes\"]) \n",
    "                    \n",
    "            #if its calibrated, redshift not adjusted but with a clear redshift\n",
    "            \n",
    "            if alert1 ==1 and alert2 == 0:  \n",
    "                \n",
    "                #there are 3 collumns: wavelength flux and flux error \n",
    "                if len(data[url][\"spectra\"][i][\"data\"][0]) == 3:\n",
    "\n",
    "                    df = pd.DataFrame(data[url][\"spectra\"][i][\"data\"], columns=['wavelength', 'flux', 'fluxerror'])\n",
    "\n",
    "                    #converting to float\n",
    "                    df['wavelength'] = df['wavelength'].astype(float)\n",
    "                    df['flux'] = df['flux'].astype(float)\n",
    "                    \n",
    "                    \n",
    "                    #sort the data by wavelength\n",
    "                    df = df.sort_values(by=['wavelength'])\n",
    "                    df = df.reset_index(drop=True)\n",
    "\n",
    "                    #to kill negative fluxes\n",
    "                    fluxtemp = []\n",
    "                    for var in range(0,len(df['flux'])):\n",
    "                        if (df['flux'][var] > 0):\n",
    "                            fluxtemp.append(df['flux'][var])\n",
    "                        else:\n",
    "                            fluxtemp.append(0)\n",
    "\n",
    "\n",
    "                    #redshift correction\n",
    "                    fluxtemp = [x * (((1+redshift))**3) for x in fluxtemp] #for the flux           \n",
    "                    df['wavelength'] = [x * (1/(1+redshift)) for x in df['wavelength']] #for the wavelength\n",
    "                    #spectratime = spectratime/(1+redshift) #for time\n",
    "         \n",
    "                    #making a list of lists \n",
    "                    suavf = suavization(fluxtemp)\n",
    " \n",
    "                    #if \"instrument\" in data[url][\"spectra\"][i]:\n",
    "\n",
    "                    #if data[url][\"spectra\"][i][\"instrument\"] == \"fast\":\n",
    "\n",
    "                    x.append(df['wavelength'])\n",
    "                    y.append(suavf)\n",
    "                    times.append(spectratime)\n",
    "\n",
    "                    units.append(data[url][\"spectra\"][i][\"u_fluxes\"]) \n",
    "                    \n",
    "                #there are 2 collumns: wavelength flux and flux error \n",
    "                if len(data[url][\"spectra\"][i][\"data\"][0]) == 2:\n",
    "\n",
    "                    df = pd.DataFrame(data[url][\"spectra\"][i][\"data\"], columns=['wavelength', 'flux'])\n",
    "\n",
    "                    #converting to float\n",
    "                    df['wavelength'] = df['wavelength'].astype(float)\n",
    "                    df['flux'] = df['flux'].astype(float)\n",
    "                    \n",
    "                    \n",
    "                    #sort the data by wavelength\n",
    "                    df = df.sort_values(by=['wavelength'])\n",
    "                    df = df.reset_index(drop=True)\n",
    "\n",
    "                    #to kill negative fluxes\n",
    "                    fluxtemp = []\n",
    "                    for var in range(0,len(df['flux'])):\n",
    "                        if (df['flux'][var] > 0):\n",
    "                            fluxtemp.append(df['flux'][var])\n",
    "                        else:\n",
    "                            fluxtemp.append(0)\n",
    "\n",
    "                    #redshift correction\n",
    "                    fluxtemp = [x * (((1+redshift))**3) for x in fluxtemp] #for the flux           \n",
    "                    df['wavelength'] = [x * (1/(1+redshift)) for x in df['wavelength']] #for the wavelength\n",
    "                    #spectratime = spectratime/(1+redshift) #for time\n",
    "       \n",
    "                    #making a list of lists \n",
    "                    suavf = suavization(fluxtemp)\n",
    "            \n",
    "                    #if \"instrument\" in data[url][\"spectra\"][i]:\n",
    "\n",
    "                    #if data[url][\"spectra\"][i][\"instrument\"] == \"fast\":\n",
    "\n",
    "                    x.append(df['wavelength'])\n",
    "                    y.append(suavf)\n",
    "                    times.append(spectratime)\n",
    "\n",
    "                    units.append(data[url][\"spectra\"][i][\"u_fluxes\"])  \n",
    "              \n",
    "        i = i + 1\n"
   ]
  },
  {
   "cell_type": "markdown",
   "metadata": {},
   "source": [
    "## Curvas de luz não integradas"
   ]
  },
  {
   "cell_type": "code",
   "execution_count": null,
   "metadata": {},
   "outputs": [],
   "source": [
    "len(x)"
   ]
  },
  {
   "cell_type": "code",
   "execution_count": null,
   "metadata": {},
   "outputs": [],
   "source": [
    "wavenumber = 4000"
   ]
  },
  {
   "cell_type": "code",
   "execution_count": null,
   "metadata": {},
   "outputs": [],
   "source": [
    "time = []\n",
    "flux = []"
   ]
  },
  {
   "cell_type": "code",
   "execution_count": null,
   "metadata": {},
   "outputs": [],
   "source": [
    "for i in range(0,len(times)):\n",
    "    \n",
    "    if min(x[i]) < wavenumber < max(x[i]):\n",
    "    \n",
    "        interpolation = interp1d(x[i], y[i])\n",
    "        \n",
    "        time.append([times[i]])\n",
    "        flux.append(interpolation(wavenumber))\n",
    "        "
   ]
  },
  {
   "cell_type": "code",
   "execution_count": null,
   "metadata": {
    "scrolled": false
   },
   "outputs": [],
   "source": [
    "%matplotlib notebook\n",
    "\n",
    "plt.figure(figsize=(8,6))\n",
    "plt.plot(time, flux,'k.')\n",
    "plt.xlabel('flux (erg/s/cm^2/Angstrom)')\n",
    "plt.ylabel('time (days)')\n",
    "plt.xlim(-20,50)\n",
    "plt.show()"
   ]
  },
  {
   "cell_type": "code",
   "execution_count": null,
   "metadata": {
    "scrolled": true
   },
   "outputs": [],
   "source": [
    "\n",
    "save_path = '/home/joao/Documentos/templates/data'\n",
    "\n",
    "for i in range(0,len(x)):\n",
    "    \n",
    "    table = []\n",
    "    for k in range(0,len(x[i])):\n",
    "        table.append((x[i][k], y[i][k]))\n",
    "\n",
    "\n",
    "    name_of_file = str(url)\n",
    "\n",
    "    completeName = os.path.join(save_path, name_of_file+str(i)+\".dat\")      \n",
    "\n",
    "    header = '#' + str(times[i])\n",
    "    \n",
    "    f = open(completeName, 'w')               \n",
    "    f.write(header + \"\\n\")\n",
    "    f.write(tabulate(table, tablefmt=\"plain\"))\n",
    "    f.close()\n",
    "    \n",
    "\n",
    "    \n",
    "    print(i)\n"
   ]
  },
  {
   "cell_type": "code",
   "execution_count": null,
   "metadata": {},
   "outputs": [],
   "source": [
    "units"
   ]
  },
  {
   "cell_type": "code",
   "execution_count": null,
   "metadata": {},
   "outputs": [],
   "source": []
  }
 ],
 "metadata": {
  "celltoolbar": "Raw Cell Format",
  "kernelspec": {
   "display_name": "Python 3",
   "language": "python",
   "name": "python3"
  },
  "language_info": {
   "codemirror_mode": {
    "name": "ipython",
    "version": 3
   },
   "file_extension": ".py",
   "mimetype": "text/x-python",
   "name": "python",
   "nbconvert_exporter": "python",
   "pygments_lexer": "ipython3",
   "version": "3.6.9"
  }
 },
 "nbformat": 4,
 "nbformat_minor": 2
}

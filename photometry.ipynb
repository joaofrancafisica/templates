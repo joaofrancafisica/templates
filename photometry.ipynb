{
 "cells": [
  {
   "cell_type": "code",
   "execution_count": 1,
   "metadata": {},
   "outputs": [],
   "source": [
    "import glob #to read the files\n",
    "import json #to work if .json\n",
    "import numpy as np #to math\n",
    "import pandas as pd #to save the data\n",
    "import math #to convertion calculus\n",
    "from astropy.time import Time #to time converting\n",
    "from astropy import units #time correction\n",
    "from astropy.coordinates import SkyCoord #time correction\n",
    "from scipy import interpolate #to interpolate the wavelength and flux\n",
    "from tabulate import tabulate #to export in table format\n",
    "from scipy.interpolate import interp1d\n",
    "#import scipy.optimize as opt\n",
    "from scipy import optimize\n",
    "from scipy import signal\n",
    "import os.path\n",
    "import matplotlib.pyplot as plt\n",
    "from sklearn.gaussian_process import GaussianProcessRegressor\n",
    "from sklearn.gaussian_process.kernels import RBF, WhiteKernel\n",
    "from scipy import stats\n",
    "import os.path \n",
    "import sncosmo\n",
    "import scipy.interpolate as interp\n",
    "from scipy.integrate import quad"
   ]
  },
  {
   "cell_type": "code",
   "execution_count": 2,
   "metadata": {},
   "outputs": [],
   "source": [
    "name = \"SN2012fr.json\""
   ]
  },
  {
   "cell_type": "code",
   "execution_count": 3,
   "metadata": {},
   "outputs": [],
   "source": [
    "with open(name, \"r\") as read_file:\n",
    "    data = json.load(read_file)"
   ]
  },
  {
   "cell_type": "code",
   "execution_count": 4,
   "metadata": {},
   "outputs": [],
   "source": [
    "url = name\n",
    "if url.endswith('.json'):\n",
    "    url = url[:-5]"
   ]
  },
  {
   "cell_type": "code",
   "execution_count": 5,
   "metadata": {},
   "outputs": [],
   "source": [
    "%run ./functions.ipynb"
   ]
  },
  {
   "cell_type": "code",
   "execution_count": 6,
   "metadata": {},
   "outputs": [
    {
     "name": "stdout",
     "output_type": "stream",
     "text": [
      "0.0054\n"
     ]
    }
   ],
   "source": [
    "redshift = redshift_value(data[url])"
   ]
  },
  {
   "cell_type": "code",
   "execution_count": 7,
   "metadata": {},
   "outputs": [],
   "source": [
    "t0 = max_time(data[url])"
   ]
  },
  {
   "cell_type": "code",
   "execution_count": 8,
   "metadata": {},
   "outputs": [],
   "source": [
    "system = []\n",
    "mag = []\n",
    "time = []"
   ]
  },
  {
   "cell_type": "code",
   "execution_count": 9,
   "metadata": {},
   "outputs": [],
   "source": [
    "for i in range(0,len(data[url][\"photometry\"])):\n",
    "               \n",
    "    #if \"system\" in data[url][\"photometry\"][i]:\n",
    "    if \"band\" in data[url][\"photometry\"][i]:\n",
    "        \n",
    "        if data[url][\"photometry\"][i][\"band\"] == \"B\":\n",
    "\n",
    "            mag.append(float(data[url][\"photometry\"][i][\"magnitude\"]))\n",
    "            time.append(float(data[url][\"photometry\"][i][\"time\"]))\n",
    "\n",
    "            #system.append(data[url][\"photometry\"][i][\"system\"])\n"
   ]
  },
  {
   "cell_type": "code",
   "execution_count": 10,
   "metadata": {},
   "outputs": [],
   "source": [
    "ab = sncosmo.get_magsystem('ab')"
   ]
  },
  {
   "cell_type": "code",
   "execution_count": 11,
   "metadata": {},
   "outputs": [],
   "source": [
    "ab = sncosmo.get_magsystem('ab')"
   ]
  },
  {
   "cell_type": "code",
   "execution_count": 12,
   "metadata": {},
   "outputs": [],
   "source": [
    "for i in range(0,len(mag)):\n",
    "    \n",
    "    mag[i] = ab.band_flux_to_mag(mag[i], 'cspb')"
   ]
  },
  {
   "cell_type": "code",
   "execution_count": 13,
   "metadata": {
    "scrolled": true
   },
   "outputs": [
    {
     "data": {
      "image/png": "[encoded data removed]",
      "text/plain": [
       "<Figure size 432x288 with 1 Axes>"
      ]
     },
     "metadata": {
      "needs_background": "light"
     },
     "output_type": "display_data"
    }
   ],
   "source": [
    "plt.plot(time, mag, 'ro')\n",
    "plt.show()"
   ]
  },
  {
   "cell_type": "code",
   "execution_count": 14,
   "metadata": {},
   "outputs": [],
   "source": [
    "file = open(\"SN2012fr.dat\")\n",
    "lines = file.readlines()\n",
    "file.close()\n",
    "\n",
    "xtemp = []\n",
    "\n",
    "for line in lines:\n",
    "\n",
    "    if line.startswith('#'): continue\n",
    "    co=line.rstrip().replace('INDEF','Nan').split()\n",
    "\n",
    "    xtemp.append(co[0])\n",
    "\n",
    "xtemp = np.array(xtemp, dtype=float)"
   ]
  },
  {
   "cell_type": "code",
   "execution_count": 15,
   "metadata": {},
   "outputs": [],
   "source": [
    "x = np.linspace(-10,50,61)\n",
    "y = np.linspace(3300,8500,521)"
   ]
  },
  {
   "cell_type": "code",
   "execution_count": 16,
   "metadata": {},
   "outputs": [],
   "source": [
    "z = np.reshape(xtemp, (521, 61))\n",
    "\n",
    "zz = []\n",
    "xx = []\n",
    "yy = []\n",
    "\n",
    "for i in range(0,len(y)):\n",
    "\n",
    "    for j in range(0,len(x)):\n",
    "\n",
    "        zz.append(z[i][j]*10**(13))\n",
    "        xx.append(x[j])\n",
    "        yy.append(y[i])"
   ]
  },
  {
   "cell_type": "code",
   "execution_count": 17,
   "metadata": {},
   "outputs": [],
   "source": [
    "def surface(x_value, y_value):\n",
    "    \n",
    "    z_value = interp.griddata((xx,yy),zz,(x_value,y_value),method='cubic')\n",
    "    \n",
    "    return z_value"
   ]
  },
  {
   "cell_type": "code",
   "execution_count": 18,
   "metadata": {},
   "outputs": [
    {
     "data": {
      "text/plain": [
       "array(1.34561)"
      ]
     },
     "execution_count": 18,
     "metadata": {},
     "output_type": "execute_result"
    }
   ],
   "source": [
    "surface(0, 4000)"
   ]
  },
  {
   "cell_type": "code",
   "execution_count": 24,
   "metadata": {},
   "outputs": [],
   "source": [
    "def surface_int(x_value):\n",
    "    \n",
    "    return quad(surface, 4000, 8000, args=(x_value))[0]"
   ]
  },
  {
   "cell_type": "code",
   "execution_count": null,
   "metadata": {},
   "outputs": [],
   "source": [
    "surface_int(0)"
   ]
  },
  {
   "cell_type": "code",
   "execution_count": null,
   "metadata": {},
   "outputs": [],
   "source": []
  }
 ],
 "metadata": {
  "kernelspec": {
   "display_name": "Python 3",
   "language": "python",
   "name": "python3"
  },
  "language_info": {
   "codemirror_mode": {
    "name": "ipython",
    "version": 3
   },
   "file_extension": ".py",
   "mimetype": "text/x-python",
   "name": "python",
   "nbconvert_exporter": "python",
   "pygments_lexer": "ipython3",
   "version": "3.6.9"
  }
 },
 "nbformat": 4,
 "nbformat_minor": 2
}

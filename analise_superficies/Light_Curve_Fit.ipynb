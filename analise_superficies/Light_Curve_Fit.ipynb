{
 "cells": [
  {
   "cell_type": "code",
   "execution_count": 1,
   "metadata": {},
   "outputs": [
    {
     "name": "stdout",
     "output_type": "stream",
     "text": [
      "SN2005hc_b.txt\n",
      "SN2006D_b.txt\n",
      "SN2005ki_b.txt\n",
      "SN2004eo_b.txt\n",
      "SN2008bc_b.txt\n",
      "SN2004ef_b.txt\n",
      "SN2007le_b.txt\n",
      "SN2007bd_b.txt\n",
      "SN2008gp_b.txt\n",
      "SN2005M_b.txt\n",
      "SN2005iq_b.txt\n",
      "SN2006X_b.txt\n",
      "SN2006et_b.txt\n",
      "SN2008bf_b.txt\n",
      "SN2006kf_b.txt\n",
      "SN2009F_b.txt\n",
      "SN2005el_b.txt\n",
      "SN2006mr_b.txt\n",
      "SN2008fp_b.txt\n",
      "SN2007S_b.txt\n",
      "SN2004ey_b.txt\n",
      "SN2009aa_b.txt\n",
      "SN2007on_b.txt\n",
      "SN2005ke_b.txt\n",
      "SN2006ax_b.txt\n",
      "SN2006bh_b.txt\n",
      "SN2005hk_b.txt\n",
      "SN2007af_b.txt\n",
      "SN2008hv_b.txt\n",
      "SN2008hj_b.txt\n",
      "SN2009D_b.txt\n",
      "SN2005kc_b.txt\n",
      "[0.2236788053512119, 4.864948528143128, 1.729353998506674, 3.6791030312942103, 0.7929490736545438, 0.6458064814520956, 1.3752918575971271, 0.9628972680635516, 0.43867258087588906, 0.5318824317926171, 0.18000844070013403, 3.341319206476842, 0.7343264289912941, 0.41025746354458154, 1.7890421697846388, 22.544292808673273, 2.25092841441051, 51.2193436698549, 3.944117914588603, 0.38010105699711905, 0.683354947646832, 0.5450999451495767, 113.91775064784088, 176.10292701488748, 0.9514232916228492, 0.5279206838218459, 23.958662641652488, 0.5745679285035638, 3.5103451540602806, 0.2702750922057454, 1.1843516742514235, 1.2697453840238386]\n",
      "13.297960813638117 36.286438220028465\n"
     ]
    }
   ],
   "source": [
    "from __future__ import print_function\n",
    "import matplotlib.pyplot as plt\n",
    "import sncosmo\n",
    "#import jp as sncosmo\n",
    "import astropy.units as u\n",
    "import glob\n",
    "import numpy as np\n",
    "\n",
    "csp = sncosmo.get_magsystem('csp')\n",
    "\n",
    "salt2 = sncosmo.SALT2Source(modeldir=None, m0file='salt2_template_0.dat', m1file='salt2_template_1.dat', clfile='salt2_color_correction.dat', cdfile='salt2_color_dispersion.dat', errscalefile='salt2_lc_dispersion_scaling.dat', lcrv00file='salt2_lc_relative_variance_0.dat', lcrv11file='salt2_lc_relative_variance_1.dat', lcrv01file='salt2_lc_relative_covariance_01.dat', name=None, version=None)\n",
    "#ab = sncosmo.get_magsystem('ab')\n",
    "chi_quad_ndof = []\n",
    "names = glob.glob(\"*.txt\")\n",
    "\n",
    "#print(names)\n",
    "for j in range(0, len(names)):\n",
    "    #j = 4\n",
    "    print(names[j])\n",
    "\n",
    "    data = sncosmo.read_lc(names[j])\n",
    "    data['zp'] = 14.328\n",
    "    #print(data['flux'])\n",
    "    \n",
    "    for i in range(0, len(data['flux'])):\n",
    "        \n",
    "        data['fluxerr'][i] = 2*np.log(10)*(10**((data['zp'][i] - data['flux'][i])/2.5))*data['fluxerr'][i]/2.5 #flux error conversion\n",
    "        #data['fluxerr'][i] = (2*np.log(10)/5)*10**(2*(data['zp'][i] - data['flux'][i])/5)*data['fluxerr'][i]\n",
    "        \n",
    "        data['flux'][i] = csp.band_mag_to_flux(data['flux'][i], 'cspb')\n",
    "    \n",
    "    #print(data['flux'])\n",
    "    model = sncosmo.Model(source=salt2)\n",
    "    #model.bandmag('cspb', 'csp')\n",
    "    #model.set(z=0.0151)  # set the model's redshift\n",
    "    \n",
    "    result, fitted_model = sncosmo.fit_lc( data, model, ['z', 't0', 'x0', 'x1', 'c'], bounds={'z':(0, data['redshift'][0]+0.1)})\n",
    "               \n",
    "    index = []\n",
    "    \n",
    "    for i in range(0,len(data['time'])):\n",
    "        \n",
    "        if data['time'][i] - result.parameters[1] > 50:\n",
    "            \n",
    "            index.append(i)\n",
    "                \n",
    "        if data['time'][i] - result.parameters[1] < -20:\n",
    "            \n",
    "            index.append(i)\n",
    "        \n",
    "        \n",
    "    teste = np.delete(data, index , axis=0)           \n",
    "    \n",
    "    model2 = sncosmo.Model(source=salt2)\n",
    "    \n",
    "    result2, fitted_model2 = sncosmo.fit_lc(teste, model2, ['z', 't0', 'x0', 'x1', 'c'], bounds={'z':(teste['redshift'][0]-0.01, teste['redshift'][0]+0.01)})\n",
    "    \n",
    "    \n",
    "    chi_quad_ndof.append(result2.chisq/result2.ndof)\n",
    "                \n",
    "#sncosmo.plot_lc(data, model=fitted_model, errors=result.errors)\n",
    "#plt.show()\n",
    "print(chi_quad_ndof)\n",
    "print(np.mean(chi_quad_ndof), np.std(chi_quad_ndof))\n",
    "#sncosmo.plot_lc(data, model=fitted_model, errors=result.errors)\n",
    "#plt.show()"
   ]
  },
  {
   "cell_type": "code",
   "execution_count": 2,
   "metadata": {},
   "outputs": [
    {
     "data": {
      "image/png": "[encoded data removed]",
      "text/plain": [
       "<Figure size 561.6x298.8 with 3 Axes>"
      ]
     },
     "metadata": {
      "needs_background": "light"
     },
     "output_type": "display_data"
    }
   ],
   "source": [
    "sncosmo.plot_lc(teste, model=fitted_model2, errors=result2.errors, zp=14.328, zpsys='csp')\n",
    "plt.show()"
   ]
  },
  {
   "cell_type": "code",
   "execution_count": 3,
   "metadata": {},
   "outputs": [
    {
     "name": "stdout",
     "output_type": "stream",
     "text": [
      "13.297960813638117\n",
      "32\n"
     ]
    }
   ],
   "source": [
    "print(np.mean(chi_quad_ndof))\n",
    "print(len(chi_quad_ndof))"
   ]
  },
  {
   "cell_type": "code",
   "execution_count": 4,
   "metadata": {},
   "outputs": [
    {
     "data": {
      "image/png": "[encoded data removed]",
      "text/plain": [
       "<Figure size 432x288 with 1 Axes>"
      ]
     },
     "metadata": {
      "needs_background": "light"
     },
     "output_type": "display_data"
    }
   ],
   "source": [
    "histograma = plt.hist(chi_quad_ndof, bins=20)\n",
    "plt.title(\"Histograma chi_quadrado por grau de liberdade\")\n",
    "plt.show()"
   ]
  },
  {
   "cell_type": "code",
   "execution_count": 5,
   "metadata": {
    "scrolled": true
   },
   "outputs": [
    {
     "name": "stdout",
     "output_type": "stream",
     "text": [
      "SN2005hc_b.txt\n",
      "SN2006D_b.txt\n",
      "SN2005ki_b.txt\n",
      "SN2004eo_b.txt\n",
      "SN2008bc_b.txt\n",
      "SN2004ef_b.txt\n",
      "SN2007le_b.txt\n",
      "SN2007bd_b.txt\n",
      "SN2008gp_b.txt\n",
      "SN2005M_b.txt\n",
      "SN2005iq_b.txt\n",
      "SN2006X_b.txt\n",
      "SN2006et_b.txt\n",
      "SN2008bf_b.txt\n",
      "SN2006kf_b.txt\n",
      "SN2009F_b.txt\n",
      "SN2005el_b.txt\n",
      "SN2006mr_b.txt\n",
      "SN2008fp_b.txt\n",
      "SN2007S_b.txt\n",
      "SN2004ey_b.txt\n",
      "SN2009aa_b.txt\n",
      "SN2007on_b.txt\n",
      "SN2005ke_b.txt\n",
      "SN2006ax_b.txt\n",
      "SN2006bh_b.txt\n",
      "SN2005hk_b.txt\n",
      "SN2007af_b.txt\n",
      "SN2008hv_b.txt\n",
      "SN2008hj_b.txt\n",
      "SN2009D_b.txt\n",
      "SN2005kc_b.txt\n",
      "[69.35453042550202, 421.3853610639051, 174.877708536755, 242.190844843257, 549.1336479056998, 102.2572993809843, 349.96623324644156, 106.03584068248016, 166.02344065119215, 108.49547244530817, 119.82996818760127, 164.27783252960273, 186.6380046336102, 310.01090846998875, 97.66015341236896, 13.333003425030824, 471.831442439536, 32.66736966125244, 40.2347256601651, 132.3037446315942, 304.8319222617408, 43.90248187140399, 314.1114569924856, 116.12719489482988, 152.75484104781597, 208.57140397667746, 125.58743820261527, 228.79101516015328, 259.85709866837885, 118.20639921689684, 138.42887032913308, 83.62798560343013]\n",
      "186.04080126430742 127.90902379997951\n"
     ]
    }
   ],
   "source": [
    "from __future__ import print_function\n",
    "import matplotlib.pyplot as plt\n",
    "#import sncosmo\n",
    "import jp as sncosmo\n",
    "import astropy.units as u\n",
    "import glob\n",
    "import numpy as np\n",
    "\n",
    "par= sncosmo.SALT2Source(modeldir=None, m0file='M0.dat', m1file='M1.dat', m2file='M2.dat', cdfile='salt2_color_dispersion.dat', errscalefile='salt2_lc_dispersion_scaling.dat', lcrv00file='salt2_lc_relative_variance_0.dat', lcrv11file='salt2_lc_relative_variance_1.dat', lcrv01file='salt2_lc_relative_covariance_01.dat', name=None, version=None)\n",
    "#ab = sncosmo.get_magsystem('ab')\n",
    "chi_quad_ndof = []\n",
    "names = glob.glob(\"*.txt\")\n",
    "\n",
    "for j in range(0, len(names)):\n",
    "    #j = 4\n",
    "    print(names[j])\n",
    "\n",
    "    data = sncosmo.read_lc(names[j])\n",
    "    data['zp'] = 14.328\n",
    "    #print(data['flux'])\n",
    "    \n",
    "    for i in range(0, len(data['flux'])):\n",
    "        \n",
    "        data['fluxerr'][i] = 2*np.log(10)*(10**((data['zp'][i] - data['flux'][i])/2.5))*data['fluxerr'][i]/2.5 #flux error conversion\n",
    "        #data['fluxerr'][i] = (2*np.log(10)/5)*10**(2*(data['zp'][i] - data['flux'][i])/5)*data['fluxerr'][i]\n",
    "        \n",
    "        data['flux'][i] = csp.band_mag_to_flux(data['flux'][i], 'cspb')\n",
    "    \n",
    "    #print(data['flux'])\n",
    "    model = sncosmo.Model(source=par)\n",
    "    #model.bandmag('cspb', 'csp')\n",
    "    #model.set(z=0.0151)  # set the model's redshift\n",
    "    \n",
    "    result, fitted_model = sncosmo.fit_lc( data, model, ['z', 't0', 'x0', 'x1', 'x2'], bounds={'z':(0, data['redshift'][0]+0.1)})\n",
    "               \n",
    "    index = []\n",
    "    \n",
    "    for i in range(0,len(data['time'])):\n",
    "        \n",
    "        if data['time'][i] - result.parameters[1] > 50:\n",
    "            \n",
    "            index.append(i)\n",
    "                \n",
    "        if data['time'][i] - result.parameters[1] < -20:\n",
    "            \n",
    "            index.append(i)\n",
    "        \n",
    "        \n",
    "    teste = np.delete(data, index , axis=0)           \n",
    "    \n",
    "    model2 = sncosmo.Model(source=par)\n",
    "    \n",
    "    result2, fitted_model2 = sncosmo.fit_lc(teste, model2, ['z', 't0', 'x0', 'x1', 'x2'], bounds={'z':(teste['redshift'][0]-0.01, teste['redshift'][0]+0.01)})\n",
    "    \n",
    "    \n",
    "    chi_quad_ndof.append(result2.chisq/result2.ndof)\n",
    "                \n",
    "#sncosmo.plot_lc(data, model=fitted_model, errors=result.errors)\n",
    "#plt.show()\n",
    "print(chi_quad_ndof)\n",
    "print(np.mean(chi_quad_ndof), np.std(chi_quad_ndof))\n",
    "#sncosmo.plot_lc(data, model=fitted_model, errors=result.errors)\n",
    "#plt.show()"
   ]
  },
  {
   "cell_type": "code",
   "execution_count": 6,
   "metadata": {},
   "outputs": [
    {
     "data": {
      "image/png": "[encoded data removed]",
      "text/plain": [
       "<Figure size 561.6x298.8 with 3 Axes>"
      ]
     },
     "metadata": {
      "needs_background": "light"
     },
     "output_type": "display_data"
    }
   ],
   "source": [
    "sncosmo.plot_lc(teste, model=fitted_model2, errors=result2.errors, zp=14.328, zpsys='csp')\n",
    "plt.show()"
   ]
  },
  {
   "cell_type": "code",
   "execution_count": 7,
   "metadata": {},
   "outputs": [
    {
     "data": {
      "text/plain": [
       "32"
      ]
     },
     "execution_count": 7,
     "metadata": {},
     "output_type": "execute_result"
    }
   ],
   "source": [
    "np.mean(chi_quad_ndof)\n",
    "len(chi_quad_ndof)"
   ]
  },
  {
   "cell_type": "code",
   "execution_count": 8,
   "metadata": {},
   "outputs": [
    {
     "data": {
      "image/png": "[encoded data removed]",
      "text/plain": [
       "<Figure size 432x288 with 1 Axes>"
      ]
     },
     "metadata": {
      "needs_background": "light"
     },
     "output_type": "display_data"
    }
   ],
   "source": [
    "histograma = plt.hist(chi_quad_ndof, bins=20)\n",
    "plt.title(\"Histograma chi_quadrado por grauf de liberdade\")\n",
    "plt.show()"
   ]
  },
  {
   "cell_type": "code",
   "execution_count": null,
   "metadata": {},
   "outputs": [],
   "source": []
  }
 ],
 "metadata": {
  "kernelspec": {
   "display_name": "Python 3",
   "language": "python",
   "name": "python3"
  },
  "language_info": {
   "codemirror_mode": {
    "name": "ipython",
    "version": 3
   },
   "file_extension": ".py",
   "mimetype": "text/x-python",
   "name": "python",
   "nbconvert_exporter": "python",
   "pygments_lexer": "ipython3",
   "version": "3.6.9"
  }
 },
 "nbformat": 4,
 "nbformat_minor": 2
}

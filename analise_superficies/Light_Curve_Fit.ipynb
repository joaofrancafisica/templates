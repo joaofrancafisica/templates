{
 "cells": [
  {
   "cell_type": "code",
   "execution_count": 1,
   "metadata": {},
   "outputs": [
    {
     "name": "stdout",
     "output_type": "stream",
     "text": [
      "SN2005hc_b.txt\n",
      "SN2006D_b.txt\n",
      "SN2005ki_b.txt\n"
     ]
    },
    {
     "name": "stderr",
     "output_type": "stream",
     "text": [
      "/usr/local/lib/python3.6/dist-packages/sncosmo/models.py:695: RuntimeWarning: overflow encountered in power\n",
      "  10. ** (-0.4 * self._colorlaw(wave) * self._parameters[2]))\n",
      "/usr/local/lib/python3.6/dist-packages/sncosmo/models.py:695: RuntimeWarning: invalid value encountered in multiply\n",
      "  10. ** (-0.4 * self._colorlaw(wave) * self._parameters[2]))\n",
      "/home/joao/.local/lib/python3.6/site-packages/numpy/core/fromnumeric.py:90: RuntimeWarning: invalid value encountered in reduce\n",
      "  return ufunc.reduce(obj, axis, dtype, out, **passkwargs)\n"
     ]
    },
    {
     "ename": "RuntimeError",
     "evalue": "result is NaN\nUser function arguments:\n     z = +0.019200\n    t0 = +702.118689\n    x0 = -3645869.400652\n    x1 = -36295.769620\n     c = -307433.493362\n",
     "output_type": "error",
     "traceback": [
      "\u001b[0;31m---------------------------------------------------------------------------\u001b[0m",
      "\u001b[0;31mRuntimeError\u001b[0m                              Traceback (most recent call last)",
      "\u001b[0;32m<ipython-input-1-c15fe1fce89d>\u001b[0m in \u001b[0;36m<module>\u001b[0;34m\u001b[0m\n\u001b[1;32m     26\u001b[0m     \u001b[0mmodel\u001b[0m\u001b[0;34m.\u001b[0m\u001b[0mset\u001b[0m\u001b[0;34m(\u001b[0m\u001b[0mz\u001b[0m\u001b[0;34m=\u001b[0m\u001b[0mdata\u001b[0m\u001b[0;34m[\u001b[0m\u001b[0;34m'redshift'\u001b[0m\u001b[0;34m]\u001b[0m\u001b[0;34m[\u001b[0m\u001b[0;36m1\u001b[0m\u001b[0;34m]\u001b[0m\u001b[0;34m)\u001b[0m  \u001b[0;31m# set the model's redshift\u001b[0m\u001b[0;34m\u001b[0m\u001b[0;34m\u001b[0m\u001b[0m\n\u001b[1;32m     27\u001b[0m     result, fitted_model = sncosmo.fit_lc(data, model,\n\u001b[0;32m---> 28\u001b[0;31m                                       ['t0', 'x0', 'x1', 'c'])\n\u001b[0m\u001b[1;32m     29\u001b[0m     \u001b[0mchi_quad_ndof\u001b[0m\u001b[0;34m.\u001b[0m\u001b[0mappend\u001b[0m\u001b[0;34m(\u001b[0m\u001b[0mresult\u001b[0m\u001b[0;34m.\u001b[0m\u001b[0mchisq\u001b[0m\u001b[0;34m/\u001b[0m\u001b[0mresult\u001b[0m\u001b[0;34m.\u001b[0m\u001b[0mndof\u001b[0m\u001b[0;34m)\u001b[0m\u001b[0;34m\u001b[0m\u001b[0;34m\u001b[0m\u001b[0m\n\u001b[1;32m     30\u001b[0m \u001b[0;34m\u001b[0m\u001b[0m\n",
      "\u001b[0;32m/usr/local/lib/python3.6/dist-packages/sncosmo/fitting.py\u001b[0m in \u001b[0;36mfit_lc\u001b[0;34m(data, model, vparam_names, bounds, method, guess_amplitude, guess_t0, guess_z, minsnr, modelcov, verbose, maxcall, phase_range, wave_range, warn)\u001b[0m\n\u001b[1;32m    535\u001b[0m                            \u001b[0mprint_level\u001b[0m\u001b[0;34m=\u001b[0m\u001b[0;34m(\u001b[0m\u001b[0;36m1\u001b[0m \u001b[0;32mif\u001b[0m \u001b[0mverbose\u001b[0m \u001b[0;34m>=\u001b[0m \u001b[0;36m2\u001b[0m \u001b[0;32melse\u001b[0m \u001b[0;36m0\u001b[0m\u001b[0;34m)\u001b[0m\u001b[0;34m,\u001b[0m\u001b[0;34m\u001b[0m\u001b[0;34m\u001b[0m\u001b[0m\n\u001b[1;32m    536\u001b[0m                            throw_nan=True, **kwargs)\n\u001b[0;32m--> 537\u001b[0;31m         \u001b[0md\u001b[0m\u001b[0;34m,\u001b[0m \u001b[0ml\u001b[0m \u001b[0;34m=\u001b[0m \u001b[0mm\u001b[0m\u001b[0;34m.\u001b[0m\u001b[0mmigrad\u001b[0m\u001b[0;34m(\u001b[0m\u001b[0mncall\u001b[0m\u001b[0;34m=\u001b[0m\u001b[0mmaxcall\u001b[0m\u001b[0;34m)\u001b[0m\u001b[0;34m\u001b[0m\u001b[0;34m\u001b[0m\u001b[0m\n\u001b[0m\u001b[1;32m    538\u001b[0m         \u001b[0;32mif\u001b[0m \u001b[0mverbose\u001b[0m\u001b[0;34m:\u001b[0m\u001b[0;34m\u001b[0m\u001b[0;34m\u001b[0m\u001b[0m\n\u001b[1;32m    539\u001b[0m             \u001b[0mprint\u001b[0m\u001b[0;34m(\u001b[0m\u001b[0;34m\"{} function calls; {} dof.\"\u001b[0m\u001b[0;34m.\u001b[0m\u001b[0mformat\u001b[0m\u001b[0;34m(\u001b[0m\u001b[0md\u001b[0m\u001b[0;34m.\u001b[0m\u001b[0mnfcn\u001b[0m\u001b[0;34m,\u001b[0m \u001b[0mndof\u001b[0m\u001b[0;34m)\u001b[0m\u001b[0;34m)\u001b[0m\u001b[0;34m\u001b[0m\u001b[0;34m\u001b[0m\u001b[0m\n",
      "\u001b[0;32miminuit/_libiminuit.pyx\u001b[0m in \u001b[0;36miminuit._libiminuit.Minuit.migrad\u001b[0;34m()\u001b[0m\n",
      "\u001b[0;31mRuntimeError\u001b[0m: result is NaN\nUser function arguments:\n     z = +0.019200\n    t0 = +702.118689\n    x0 = -3645869.400652\n    x1 = -36295.769620\n     c = -307433.493362\n"
     ]
    }
   ],
   "source": [
    "from __future__ import print_function\n",
    "import matplotlib.pyplot as plt\n",
    "import sncosmo\n",
    "import astropy.units as u\n",
    "import glob\n",
    "import numpy as np\n",
    "\n",
    "teste = sncosmo.SALT2Source(modeldir=None, m0file='salt2_template_0.dat', m1file='salt2_template_1.dat', clfile='salt2_color_correction.dat', cdfile='salt2_color_dispersion.dat', errscalefile='salt2_lc_dispersion_scaling.dat', lcrv00file='salt2_lc_relative_variance_0.dat', lcrv11file='salt2_lc_relative_variance_1.dat', lcrv01file='salt2_lc_relative_covariance_01.dat', name=None, version=None)\n",
    "#ab = sncosmo.get_magsystem('ab')\n",
    "chi_quad_ndof = []\n",
    "names = glob.glob(\"*.txt\")\n",
    "\n",
    "#print(names)\n",
    "for j in range(0, len(names)):\n",
    "    #j = 4\n",
    "    print(names[j])\n",
    "\n",
    "    data = sncosmo.read_lc(names[j])\n",
    "    data['zp'] = 14.328\n",
    "    print(data['fluxerr'])\n",
    "    for i in range(0, len(data['flux'])):\n",
    "        data['fluxerr'][i] = np.log(10)*(10**((data['zp'][i] - data['flux'][i])/2.5))*data['fluxerr'][i] #flux error conversion\n",
    "        data['flux'][i] = 10**((data['zp'][i] - data['flux'][i])/2.5) #flux\n",
    "    \n",
    "    model = sncosmo.Model(source=teste)\n",
    "    model.set(z=data['redshift'][1])  # set the model's redshift\n",
    "    result, fitted_model = sncosmo.fit_lc(data, model,\n",
    "                                      ['t0', 'x0', 'x1', 'c'])\n",
    "    chi_quad_ndof.append(result.chisq/result.ndof)\n",
    "                \n",
    "#sncosmo.plot_lc(data, model=fitted_model, errors=result.errors)\n",
    "#plt.show()\n",
    "print(chi_quad_ndof)\n",
    "print(np.mean(chi_quad_ndof), np.std(chi_quad_ndof))\n",
    "#sncosmo.plot_lc(data, model=fitted_model, errors=result.errors)\n",
    "#plt.show()"
   ]
  },
  {
   "cell_type": "code",
   "execution_count": null,
   "metadata": {},
   "outputs": [],
   "source": [
    "sncosmo.plot_lc(data, model=fitted_model, errors=result.errors, zp=14.328, zpsys='csp')\n",
    "plt.show()"
   ]
  },
  {
   "cell_type": "code",
   "execution_count": null,
   "metadata": {},
   "outputs": [],
   "source": [
    "np.mean(chi_quad_ndof)\n",
    "len(chi_quad_ndof)"
   ]
  },
  {
   "cell_type": "code",
   "execution_count": null,
   "metadata": {},
   "outputs": [],
   "source": [
    "histograma = plt.hist(chi_quad_ndof, bins=20)\n",
    "plt.title(\"Histograma chi_quadrado por grau de liberdade\")\n",
    "plt.show()"
   ]
  },
  {
   "cell_type": "code",
   "execution_count": null,
   "metadata": {},
   "outputs": [],
   "source": [
    "from __future__ import print_function\n",
    "import matplotlib.pyplot as plt\n",
    "import sncosmo\n",
    "import astropy.units as u\n",
    "import glob\n",
    "import numpy as np\n",
    "\n",
    "teste = sncosmo.SALT2Source(modeldir=None, m0file='M0.dat', m1file='M1.dat', clfile='salt2_color_correction.dat', cdfile='salt2_color_dispersion.dat', errscalefile='salt2_lc_dispersion_scaling.dat', lcrv00file='salt2_lc_relative_variance_0.dat', lcrv11file='salt2_lc_relative_variance_1.dat', lcrv01file='salt2_lc_relative_covariance_01.dat', name=None, version=None)\n",
    "#ab = sncosmo.get_magsystem('ab')\n",
    "chi_quad_ndof = []\n",
    "names = glob.glob(\"*.txt\")\n",
    "\n",
    "#print(names)\n",
    "for j in range(0, len(names)):\n",
    "    #j = 4\n",
    "    print(names[j])\n",
    "\n",
    "    data = sncosmo.read_lc(names[j])\n",
    "    data['zp'] = 14.328\n",
    "    for i in range(0, len(data['flux'])):\n",
    "        data['fluxerr'][i] = np.log(10)*(10**((data['zp'][i] - data['flux'][i])/2.5))*data['fluxerr'][i] #flux error conversion\n",
    "        data['flux'][i] = 10**((data['zp'][i] - data['flux'][i])/2.5) #flux\n",
    "        \n",
    "    model = sncosmo.Model(source=teste)\n",
    "    model.set(z=data['redshift'][1])  # set the model's redshift\n",
    "    result, fitted_model = sncosmo.fit_lc(data, model,\n",
    "                                      ['t0', 'x0', 'x1', 'c'])\n",
    "    chi_quad_ndof.append(result.chisq/result.ndof)\n",
    "                \n",
    "#sncosmo.plot_lc(data, model=fitted_model, errors=result.errors)\n",
    "#plt.show()\n",
    "print(chi_quad_ndof)\n",
    "print(np.mean(chi_quad_ndof), np.std(chi_quad_ndof))\n",
    "#sncosmo.plot_lc(data, model=fitted_model, errors=result.errors)\n",
    "#plt.show()"
   ]
  },
  {
   "cell_type": "code",
   "execution_count": null,
   "metadata": {},
   "outputs": [],
   "source": [
    "sncosmo.plot_lc(data, model=fitted_model, errors=result.errors, zp=14.328, zpsys='csp')\n",
    "plt.show()"
   ]
  },
  {
   "cell_type": "code",
   "execution_count": null,
   "metadata": {},
   "outputs": [],
   "source": [
    "np.mean(chi_quad_ndof)\n",
    "len(chi_quad_ndof)"
   ]
  },
  {
   "cell_type": "code",
   "execution_count": null,
   "metadata": {},
   "outputs": [],
   "source": [
    "histograma = plt.hist(chi_quad_ndof, bins=20)\n",
    "plt.title(\"Histograma chi_quadrado por grau de liberdade\")\n",
    "plt.show()"
   ]
  },
  {
   "cell_type": "code",
   "execution_count": null,
   "metadata": {},
   "outputs": [],
   "source": []
  }
 ],
 "metadata": {
  "kernelspec": {
   "display_name": "Python 3",
   "language": "python",
   "name": "python3"
  },
  "language_info": {
   "codemirror_mode": {
    "name": "ipython",
    "version": 3
   },
   "file_extension": ".py",
   "mimetype": "text/x-python",
   "name": "python",
   "nbconvert_exporter": "python",
   "pygments_lexer": "ipython3",
   "version": "3.6.9"
  }
 },
 "nbformat": 4,
 "nbformat_minor": 2
}

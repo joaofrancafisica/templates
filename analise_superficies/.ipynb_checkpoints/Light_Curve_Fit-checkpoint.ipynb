{
 "cells": [
  {
   "cell_type": "code",
   "execution_count": 1,
   "metadata": {},
   "outputs": [
    {
     "name": "stdout",
     "output_type": "stream",
     "text": [
      "SN2005hc_b.txt\n",
      "SN2006D_b.txt\n",
      "SN2005ki_b.txt\n",
      "SN2004eo_b.txt\n",
      "SN2008bc_b.txt\n",
      "SN2004ef_b.txt\n",
      "SN2007le_b.txt\n",
      "SN2007bd_b.txt\n",
      "SN2008gp_b.txt\n",
      "SN2005M_b.txt\n",
      "SN2005iq_b.txt\n",
      "SN2006X_b.txt\n",
      "SN2006et_b.txt\n",
      "SN2008bf_b.txt\n",
      "SN2006kf_b.txt\n",
      "SN2009F_b.txt\n",
      "SN2005el_b.txt\n",
      "SN2006mr_b.txt\n",
      "SN2008fp_b.txt\n",
      "SN2007S_b.txt\n",
      "SN2004ey_b.txt\n",
      "SN2009aa_b.txt\n",
      "SN2007on_b.txt\n",
      "SN2005ke_b.txt\n",
      "SN2006ax_b.txt\n",
      "SN2006bh_b.txt\n",
      "SN2005hk_b.txt\n",
      "SN2007af_b.txt\n",
      "SN2008hv_b.txt\n",
      "SN2008hj_b.txt\n",
      "SN2009D_b.txt\n",
      "SN2005kc_b.txt\n",
      "[0.21101838985367943, 4.884066916940691, 1.696266215933439, 3.679109558276975, 0.7873999731139608, 0.6458062034135137, 1.3947920604687136, 0.5588679966291666, 0.6389319519629639, 0.3488062202952273, 0.17974150397929425, 3.341318238224972, 0.6256899538799023, 0.37237497829037736, 1.7444021327480155, 22.465451434591994, 2.1441566996743004, 57.96073356659182, 3.9439443498682936, 0.37436574134709216, 0.5254204102673324, 0.28054291906876083, 106.4029901422586, 174.97697004229101, 0.8941854028949074, 0.5219253261571812, 23.95866179711817, 0.5746870918168103, 3.5138439823388574, 0.2705722121336646, 0.6373699207575856, 0.4260702929765711]\n",
      "13.155640113317618 35.76502872007201\n"
     ]
    }
   ],
   "source": [
    "from __future__ import print_function\n",
    "import matplotlib.pyplot as plt\n",
    "import sncosmo\n",
    "#import jp as sncosmo\n",
    "import astropy.units as u\n",
    "import glob\n",
    "import numpy as np\n",
    "\n",
    "csp = sncosmo.get_magsystem('csp')\n",
    "\n",
    "#teste = sncosmo.SALT2Source(modeldir=None, m0file='salt2_template_0.dat', m1file='salt2_template_1.dat', m2file='M2.dat', cdfile='salt2_color_dispersion.dat', errscalefile='salt2_lc_dispersion_scaling.dat', lcrv00file='salt2_lc_relative_variance_0.dat', lcrv11file='salt2_lc_relative_variance_1.dat', lcrv01file='salt2_lc_relative_covariance_01.dat', name=None, version=None)\n",
    "#ab = sncosmo.get_magsystem('ab')\n",
    "chi_quad_ndof = []\n",
    "names = glob.glob(\"*.txt\")\n",
    "\n",
    "#print(names)\n",
    "for j in range(0, len(names)):\n",
    "    #j = 4\n",
    "    print(names[j])\n",
    "\n",
    "    data = sncosmo.read_lc(names[j])\n",
    "    data['zp'] = 14.328\n",
    "    #print(data['flux'])\n",
    "    \n",
    "    for i in range(0, len(data['flux'])):\n",
    "        \n",
    "        data['fluxerr'][i] = 2*np.log(10)*(10**((data['zp'][i] - data['flux'][i])/2.5))*data['fluxerr'][i]/2.5 #flux error conversion\n",
    "        #data['fluxerr'][i] = (2*np.log(10)/5)*10**(2*(data['zp'][i] - data['flux'][i])/5)*data['fluxerr'][i]\n",
    "        \n",
    "        data['flux'][i] = csp.band_mag_to_flux(data['flux'][i], 'cspb')\n",
    "    \n",
    "    #print(data['flux'])\n",
    "    model = sncosmo.Model(source='salt2')\n",
    "    #model.bandmag('cspb', 'csp')\n",
    "    #model.set(z=0.0151)  # set the model's redshift\n",
    "    \n",
    "    result, fitted_model = sncosmo.fit_lc( data, model, ['z', 't0', 'x0', 'x1', 'c'], bounds={'z':(0, data['redshift'][0]+0.1)})\n",
    "               \n",
    "    index = []\n",
    "    \n",
    "    for i in range(0,len(data['time'])):\n",
    "        \n",
    "        if data['time'][i] - result.parameters[1] > 50:\n",
    "            \n",
    "            index.append(i)\n",
    "                \n",
    "        if data['time'][i] - result.parameters[1] < -20:\n",
    "            \n",
    "            index.append(i)\n",
    "        \n",
    "        \n",
    "    teste = np.delete(data, index , axis=0)           \n",
    "    \n",
    "    model2 = sncosmo.Model(source='salt2')\n",
    "    \n",
    "    result2, fitted_model2 = sncosmo.fit_lc(teste, model2, ['z', 't0', 'x0', 'x1', 'c'], bounds={'z':(0, teste['redshift'][0]+0.1)})\n",
    "    \n",
    "    \n",
    "    chi_quad_ndof.append(result2.chisq/result2.ndof)\n",
    "                \n",
    "#sncosmo.plot_lc(data, model=fitted_model, errors=result.errors)\n",
    "#plt.show()\n",
    "print(chi_quad_ndof)\n",
    "print(np.mean(chi_quad_ndof), np.std(chi_quad_ndof))\n",
    "#sncosmo.plot_lc(data, model=fitted_model, errors=result.errors)\n",
    "#plt.show()"
   ]
  },
  {
   "cell_type": "code",
   "execution_count": 2,
   "metadata": {},
   "outputs": [
    {
     "data": {
      "image/png": "[encoded data removed]",
      "text/plain": [
       "<Figure size 561.6x298.8 with 3 Axes>"
      ]
     },
     "metadata": {
      "needs_background": "light"
     },
     "output_type": "display_data"
    }
   ],
   "source": [
    "sncosmo.plot_lc(teste, model=fitted_model, errors=result.errors, zp=14.328, zpsys='csp')\n",
    "plt.show()"
   ]
  },
  {
   "cell_type": "code",
   "execution_count": 3,
   "metadata": {},
   "outputs": [
    {
     "name": "stdout",
     "output_type": "stream",
     "text": [
      "13.155640113317618\n",
      "32\n"
     ]
    }
   ],
   "source": [
    "print(np.mean(chi_quad_ndof))\n",
    "print(len(chi_quad_ndof))"
   ]
  },
  {
   "cell_type": "code",
   "execution_count": 4,
   "metadata": {},
   "outputs": [
    {
     "data": {
      "image/png": "[encoded data removed]",
      "text/plain": [
       "<Figure size 432x288 with 1 Axes>"
      ]
     },
     "metadata": {
      "needs_background": "light"
     },
     "output_type": "display_data"
    }
   ],
   "source": [
    "histograma = plt.hist(chi_quad_ndof, bins=20)\n",
    "plt.title(\"Histograma chi_quadrado por grau de liberdade\")\n",
    "plt.show()"
   ]
  },
  {
   "cell_type": "code",
   "execution_count": 5,
   "metadata": {},
   "outputs": [
    {
     "name": "stdout",
     "output_type": "stream",
     "text": [
      "SN2005hc_b.txt\n",
      "SN2006D_b.txt\n",
      "SN2005ki_b.txt\n",
      "SN2004eo_b.txt\n",
      "SN2008bc_b.txt\n",
      "SN2004ef_b.txt\n",
      "SN2007le_b.txt\n",
      "SN2007bd_b.txt\n",
      "SN2008gp_b.txt\n",
      "SN2005M_b.txt\n",
      "SN2005iq_b.txt\n",
      "SN2006X_b.txt\n",
      "SN2006et_b.txt\n",
      "SN2008bf_b.txt\n",
      "SN2006kf_b.txt\n",
      "SN2009F_b.txt\n",
      "SN2005el_b.txt\n",
      "SN2006mr_b.txt\n",
      "SN2008fp_b.txt\n",
      "SN2007S_b.txt\n",
      "SN2004ey_b.txt\n",
      "SN2009aa_b.txt\n",
      "SN2007on_b.txt\n",
      "SN2005ke_b.txt\n",
      "SN2006ax_b.txt\n",
      "SN2006bh_b.txt\n",
      "SN2005hk_b.txt\n",
      "SN2007af_b.txt\n",
      "SN2008hv_b.txt\n",
      "SN2008hj_b.txt\n",
      "SN2009D_b.txt\n",
      "SN2005kc_b.txt\n",
      "[0.5735127983481633, 33.83520073670034, 31.48851023348081, 53.66403513525269, 3.3869425375749236, 14.147603506418776, 1.852166049951473, 3.9058443809103984, 1.2532619343887461, 1.1799020818457, 1.948794053659064, 29.554570600919625, 1.6400184928135164, 0.5621729028441967, 25.087963134718592, 42.56491022661574, 21.704612608168787, 25.451762293860217, 1.7553262129734621, 0.9926138850409343, 1.909103252884243, 2.5185542265266685, 313.258008162625, 54.75090603883789, 5.057224281517629, 7.8959466548127, 87.21380523461859, 7.648438007189807, 30.201832580154083, 0.7158700819008057, 1.057237600618197, 2.676402457472436]\n",
      "25.357907887051383 55.601616313943936\n"
     ]
    }
   ],
   "source": [
    "from __future__ import print_function\n",
    "import matplotlib.pyplot as plt\n",
    "#import sncosmo\n",
    "import jp as sncosmo\n",
    "import astropy.units as u\n",
    "import glob\n",
    "import numpy as np\n",
    "\n",
    "par= sncosmo.SALT2Source(modeldir=None, m0file='M0.dat', m1file='M1.dat', m2file='M2.dat', cdfile='salt2_color_dispersion.dat', errscalefile='salt2_lc_dispersion_scaling.dat', lcrv00file='salt2_lc_relative_variance_0.dat', lcrv11file='salt2_lc_relative_variance_1.dat', lcrv01file='salt2_lc_relative_covariance_01.dat', name=None, version=None)\n",
    "#ab = sncosmo.get_magsystem('ab')\n",
    "chi_quad_ndof = []\n",
    "names = glob.glob(\"*.txt\")\n",
    "\n",
    "for j in range(0, len(names)):\n",
    "    #j = 4\n",
    "    print(names[j])\n",
    "\n",
    "    data = sncosmo.read_lc(names[j])\n",
    "    data['zp'] = 14.328\n",
    "    #print(data['flux'])\n",
    "    \n",
    "    for i in range(0, len(data['flux'])):\n",
    "        \n",
    "        data['fluxerr'][i] = 2*np.log(10)*(10**((data['zp'][i] - data['flux'][i])/2.5))*data['fluxerr'][i]/2.5 #flux error conversion\n",
    "        #data['fluxerr'][i] = (2*np.log(10)/5)*10**(2*(data['zp'][i] - data['flux'][i])/5)*data['fluxerr'][i]\n",
    "        \n",
    "        data['flux'][i] = csp.band_mag_to_flux(data['flux'][i], 'cspb')\n",
    "    \n",
    "    #print(data['flux'])\n",
    "    model = sncosmo.Model(source=par)\n",
    "    #model.bandmag('cspb', 'csp')\n",
    "    #model.set(z=0.0151)  # set the model's redshift\n",
    "    \n",
    "    result, fitted_model = sncosmo.fit_lc( data, model, ['z', 't0', 'x0', 'x1', 'c'], bounds={'z':(0, data['redshift'][0]+0.1)})\n",
    "               \n",
    "    index = []\n",
    "    \n",
    "    for i in range(0,len(data['time'])):\n",
    "        \n",
    "        if data['time'][i] - result.parameters[1] > 50:\n",
    "            \n",
    "            index.append(i)\n",
    "                \n",
    "        if data['time'][i] - result.parameters[1] < -20:\n",
    "            \n",
    "            index.append(i)\n",
    "        \n",
    "        \n",
    "    teste = np.delete(data, index , axis=0)           \n",
    "    \n",
    "    model2 = sncosmo.Model(source=par)\n",
    "    \n",
    "    result2, fitted_model2 = sncosmo.fit_lc(teste, model2, ['z', 't0', 'x0', 'x1', 'c'], bounds={'z':(0, teste['redshift'][0]+0.1)})\n",
    "    \n",
    "    \n",
    "    chi_quad_ndof.append(result2.chisq/result2.ndof)\n",
    "                \n",
    "#sncosmo.plot_lc(data, model=fitted_model, errors=result.errors)\n",
    "#plt.show()\n",
    "print(chi_quad_ndof)\n",
    "print(np.mean(chi_quad_ndof), np.std(chi_quad_ndof))\n",
    "#sncosmo.plot_lc(data, model=fitted_model, errors=result.errors)\n",
    "#plt.show()"
   ]
  },
  {
   "cell_type": "code",
   "execution_count": 6,
   "metadata": {},
   "outputs": [
    {
     "data": {
      "image/png": "[encoded data removed]",
      "text/plain": [
       "<Figure size 561.6x298.8 with 3 Axes>"
      ]
     },
     "metadata": {
      "needs_background": "light"
     },
     "output_type": "display_data"
    }
   ],
   "source": [
    "sncosmo.plot_lc(data, model=fitted_model, errors=result.errors, zp=14.328, zpsys='csp')\n",
    "plt.show()"
   ]
  },
  {
   "cell_type": "code",
   "execution_count": 7,
   "metadata": {},
   "outputs": [
    {
     "data": {
      "text/plain": [
       "32"
      ]
     },
     "execution_count": 7,
     "metadata": {},
     "output_type": "execute_result"
    }
   ],
   "source": [
    "np.mean(chi_quad_ndof)\n",
    "len(chi_quad_ndof)"
   ]
  },
  {
   "cell_type": "code",
   "execution_count": 15,
   "metadata": {},
   "outputs": [
    {
     "data": {
      "image/png": "[encoded data removed]",
      "text/plain": [
       "<Figure size 432x288 with 1 Axes>"
      ]
     },
     "metadata": {
      "needs_background": "light"
     },
     "output_type": "display_data"
    }
   ],
   "source": [
    "histograma = plt.hist(chi_quad_ndof, bins=20)\n",
    "plt.title(\"Histograma chi_quadrado por grauf de liberdade\")\n",
    "plt.show()"
   ]
  },
  {
   "cell_type": "code",
   "execution_count": null,
   "metadata": {},
   "outputs": [],
   "source": []
  }
 ],
 "metadata": {
  "kernelspec": {
   "display_name": "Python 3",
   "language": "python",
   "name": "python3"
  },
  "language_info": {
   "codemirror_mode": {
    "name": "ipython",
    "version": 3
   },
   "file_extension": ".py",
   "mimetype": "text/x-python",
   "name": "python",
   "nbconvert_exporter": "python",
   "pygments_lexer": "ipython3",
   "version": "3.6.9"
  }
 },
 "nbformat": 4,
 "nbformat_minor": 2
}

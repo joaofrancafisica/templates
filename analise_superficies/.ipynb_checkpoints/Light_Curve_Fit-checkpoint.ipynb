{
 "cells": [
  {
   "cell_type": "code",
   "execution_count": 1,
   "metadata": {},
   "outputs": [
    {
     "ename": "ModuleNotFoundError",
     "evalue": "No module named 'sncosmo'",
     "output_type": "error",
     "traceback": [
      "\u001b[0;31m---------------------------------------------------------------------------\u001b[0m",
      "\u001b[0;31mModuleNotFoundError\u001b[0m                       Traceback (most recent call last)",
      "\u001b[0;32m<ipython-input-1-c90343a2ecfa>\u001b[0m in \u001b[0;36m<module>\u001b[0;34m\u001b[0m\n\u001b[1;32m      1\u001b[0m \u001b[0;32mfrom\u001b[0m \u001b[0m__future__\u001b[0m \u001b[0;32mimport\u001b[0m \u001b[0mprint_function\u001b[0m\u001b[0;34m\u001b[0m\u001b[0;34m\u001b[0m\u001b[0m\n\u001b[1;32m      2\u001b[0m \u001b[0;32mimport\u001b[0m \u001b[0mmatplotlib\u001b[0m\u001b[0;34m.\u001b[0m\u001b[0mpyplot\u001b[0m \u001b[0;32mas\u001b[0m \u001b[0mplt\u001b[0m\u001b[0;34m\u001b[0m\u001b[0;34m\u001b[0m\u001b[0m\n\u001b[0;32m----> 3\u001b[0;31m \u001b[0;32mimport\u001b[0m \u001b[0msncosmo\u001b[0m\u001b[0;34m\u001b[0m\u001b[0;34m\u001b[0m\u001b[0m\n\u001b[0m\u001b[1;32m      4\u001b[0m \u001b[0;32mimport\u001b[0m \u001b[0mastropy\u001b[0m\u001b[0;34m.\u001b[0m\u001b[0munits\u001b[0m \u001b[0;32mas\u001b[0m \u001b[0mu\u001b[0m\u001b[0;34m\u001b[0m\u001b[0;34m\u001b[0m\u001b[0m\n\u001b[1;32m      5\u001b[0m \u001b[0;32mimport\u001b[0m \u001b[0mglob\u001b[0m\u001b[0;34m\u001b[0m\u001b[0;34m\u001b[0m\u001b[0m\n",
      "\u001b[0;31mModuleNotFoundError\u001b[0m: No module named 'sncosmo'"
     ]
    }
   ],
   "source": [
    "from __future__ import print_function\n",
    "import matplotlib.pyplot as plt\n",
    "import sncosmo\n",
    "import astropy.units as u\n",
    "import glob\n",
    "import numpy as np\n",
    "\n",
    "teste = sncosmo.SALT2Source(modeldir=None, m0file='salt2_template_0.dat', m1file='salt2_template_1.dat', clfile='salt2_color_correction.dat', cdfile='salt2_color_dispersion.dat', errscalefile='salt2_lc_dispersion_scaling.dat', lcrv00file='salt2_lc_relative_variance_0.dat', lcrv11file='salt2_lc_relative_variance_1.dat', lcrv01file='salt2_lc_relative_covariance_01.dat', name=None, version=None)\n",
    "#ab = sncosmo.get_magsystem('ab')\n",
    "chi_quad_ndof = []\n",
    "names = glob.glob(\"*.txt\")\n",
    "\n",
    "#print(names)\n",
    "for j in range(0, len(names)):\n",
    "    #j = 4\n",
    "    print(names[j])\n",
    "\n",
    "    data = sncosmo.read_lc(names[j])\n",
    "    data['zp'] = 14.328\n",
    "    for i in range(0, len(data['flux'])):\n",
    "        data['fluxerr'][i] = np.log(10)*(10**((data['zp'][i] - data['flux'][i])/2.5))*data['fluxerr'][i] #flux error conversion\n",
    "        data['flux'][i] = 10**((data['zp'][i] - data['flux'][i])/2.5) #flux\n",
    "        \n",
    "    model = sncosmo.Model(source=teste)\n",
    "    model.set(z=data['redshift'][1])  # set the model's redshift\n",
    "    result, fitted_model = sncosmo.fit_lc(data, model,\n",
    "                                      ['t0', 'x0', 'x1', 'c'])\n",
    "    chi_quad_ndof.append(result.chisq/result.ndof)\n",
    "                \n",
    "#sncosmo.plot_lc(data, model=fitted_model, errors=result.errors)\n",
    "#plt.show()\n",
    "print(chi_quad_ndof)\n",
    "print(np.mean(chi_quad_ndof), np.std(chi_quad_ndof))\n",
    "#sncosmo.plot_lc(data, model=fitted_model, errors=result.errors)\n",
    "#plt.show()"
   ]
  },
  {
   "cell_type": "code",
   "execution_count": null,
   "metadata": {},
   "outputs": [],
   "source": [
    "sncosmo.plot_lc(data, model=fitted_model, errors=result.errors, zp=14.328, zpsys='csp')\n",
    "plt.show()"
   ]
  },
  {
   "cell_type": "code",
   "execution_count": null,
   "metadata": {},
   "outputs": [],
   "source": [
    "np.mean(chi_quad_ndof)\n",
    "len(chi_quad_ndof)"
   ]
  },
  {
   "cell_type": "code",
   "execution_count": null,
   "metadata": {},
   "outputs": [],
   "source": [
    "histograma = plt.hist(chi_quad_ndof, bins=20)\n",
    "plt.title(\"Histograma chi_quadrado por grau de liberdade\")\n",
    "plt.show()"
   ]
  },
  {
   "cell_type": "code",
   "execution_count": null,
   "metadata": {},
   "outputs": [],
   "source": [
    "from __future__ import print_function\n",
    "import matplotlib.pyplot as plt\n",
    "import sncosmo\n",
    "import astropy.units as u\n",
    "import glob\n",
    "import numpy as np\n",
    "\n",
    "teste = sncosmo.SALT2Source(modeldir=None, m0file='newM0.dat', m1file='newM1.dat', clfile='salt2_color_correction.dat', cdfile='salt2_color_dispersion.dat', errscalefile='salt2_lc_dispersion_scaling.dat', lcrv00file='salt2_lc_relative_variance_0.dat', lcrv11file='salt2_lc_relative_variance_1.dat', lcrv01file='salt2_lc_relative_covariance_01.dat', name=None, version=None)\n",
    "#ab = sncosmo.get_magsystem('ab')\n",
    "chi_quad_ndof = []\n",
    "names = glob.glob(\"*.txt\")\n",
    "\n",
    "#print(names)\n",
    "for j in range(0, len(names)):\n",
    "    #j = 4\n",
    "    print(names[j])\n",
    "\n",
    "    data = sncosmo.read_lc(names[j])\n",
    "    data['zp'] = 14.328\n",
    "    for i in range(0, len(data['flux'])):\n",
    "        data['fluxerr'][i] = np.log(10)*(10**((data['zp'][i] - data['flux'][i])/2.5))*data['fluxerr'][i] #flux error conversion\n",
    "        data['flux'][i] = 10**((data['zp'][i] - data['flux'][i])/2.5) #flux\n",
    "        \n",
    "    model = sncosmo.Model(source=teste)\n",
    "    model.set(z=data['redshift'][1])  # set the model's redshift\n",
    "    result, fitted_model = sncosmo.fit_lc(data, model,\n",
    "                                      ['t0', 'x0', 'x1', 'c'])\n",
    "    chi_quad_ndof.append(result.chisq/result.ndof)\n",
    "                \n",
    "#sncosmo.plot_lc(data, model=fitted_model, errors=result.errors)\n",
    "#plt.show()\n",
    "print(chi_quad_ndof)\n",
    "print(np.mean(chi_quad_ndof), np.std(chi_quad_ndof))\n",
    "#sncosmo.plot_lc(data, model=fitted_model, errors=result.errors)\n",
    "#plt.show()"
   ]
  },
  {
   "cell_type": "code",
   "execution_count": null,
   "metadata": {},
   "outputs": [],
   "source": [
    "sncosmo.plot_lc(data, model=fitted_model, errors=result.errors, zp=14.328, zpsys='csp')\n",
    "plt.show()"
   ]
  },
  {
   "cell_type": "code",
   "execution_count": null,
   "metadata": {},
   "outputs": [],
   "source": [
    "np.mean(chi_quad_ndof)\n",
    "len(chi_quad_ndof)"
   ]
  },
  {
   "cell_type": "code",
   "execution_count": null,
   "metadata": {},
   "outputs": [],
   "source": [
    "histograma = plt.hist(chi_quad_ndof, bins=20)\n",
    "plt.title(\"Histograma chi_quadrado por grau de liberdade\")\n",
    "plt.show()"
   ]
  }
 ],
 "metadata": {
  "kernelspec": {
   "display_name": "Python 3",
   "language": "python",
   "name": "python3"
  },
  "language_info": {
   "codemirror_mode": {
    "name": "ipython",
    "version": 3
   },
   "file_extension": ".py",
   "mimetype": "text/x-python",
   "name": "python",
   "nbconvert_exporter": "python",
   "pygments_lexer": "ipython3",
   "version": "3.6.9"
  }
 },
 "nbformat": 4,
 "nbformat_minor": 2
}

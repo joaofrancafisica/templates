{
 "cells": [
  {
   "cell_type": "code",
   "execution_count": 1,
   "metadata": {},
   "outputs": [],
   "source": [
    "from tabulate import tabulate #to export in table format\n",
    "import os.path"
   ]
  },
  {
   "cell_type": "code",
   "execution_count": 18,
   "metadata": {},
   "outputs": [],
   "source": [
    "#time wavelength and flux lists\n",
    "x_m0 = []\n",
    "y_m0 = []\n",
    "z_m0 = []"
   ]
  },
  {
   "cell_type": "code",
   "execution_count": 19,
   "metadata": {},
   "outputs": [],
   "source": [
    "#reading the file\n",
    "file = open(\"M1.dat\")\n",
    "lines = file.readlines()\n",
    "file.close()\n",
    "\n",
    "for line in lines:\n",
    "    if line.startswith('#'): continue\n",
    "    co=line.rstrip().replace('INDEF','Nan').split()\n",
    "\n",
    "    x_m0.append(co[0])\n",
    "    y_m0.append(co[1])\n",
    "    z_m0.append(co[2])\n",
    "\n",
    "#converting to float\n",
    "x_m0 = [float(i) for i in x_m0]\n",
    "y_m0 = [float(i) for i in y_m0]\n",
    "z_m0 = [float(i) for i in z_m0]"
   ]
  },
  {
   "cell_type": "code",
   "execution_count": 20,
   "metadata": {},
   "outputs": [],
   "source": [
    "x = []\n",
    "y = []\n",
    "z = []"
   ]
  },
  {
   "cell_type": "code",
   "execution_count": 21,
   "metadata": {},
   "outputs": [],
   "source": [
    "for i in range(0, len(z_m0)):\n",
    "    \n",
    "    if x_m0[i] > -11:\n",
    "        \n",
    "        if 4000 < y_m0[i] < 9000:\n",
    "            \n",
    "            x.append(x_m0[i])\n",
    "            y.append(y_m0[i])\n",
    "            z.append(z_m0[i])"
   ]
  },
  {
   "cell_type": "code",
   "execution_count": 22,
   "metadata": {},
   "outputs": [],
   "source": [
    "#for i in range(0, len(z)):\n",
    "    \n",
    "#    z[i] = z[i]/max(z)"
   ]
  },
  {
   "cell_type": "code",
   "execution_count": 23,
   "metadata": {},
   "outputs": [],
   "source": [
    "save_path = '/home/joao/Documents'"
   ]
  },
  {
   "cell_type": "code",
   "execution_count": 24,
   "metadata": {},
   "outputs": [],
   "source": [
    "table = []\n",
    "for l in range(0,len(x)):\n",
    "    table.append((x[l],y[l],z[l]))\n",
    "\n",
    "\n",
    "completeName = os.path.join(save_path, \"M1mod.dat\")\n",
    "\n",
    "f = open(completeName, 'w')\n",
    "f.write(tabulate(table, tablefmt=\"plain\"))\n",
    "f.close()"
   ]
  },
  {
   "cell_type": "code",
   "execution_count": null,
   "metadata": {},
   "outputs": [],
   "source": []
  }
 ],
 "metadata": {
  "kernelspec": {
   "display_name": "Python 3",
   "language": "python",
   "name": "python3"
  },
  "language_info": {
   "codemirror_mode": {
    "name": "ipython",
    "version": 3
   },
   "file_extension": ".py",
   "mimetype": "text/x-python",
   "name": "python",
   "nbconvert_exporter": "python",
   "pygments_lexer": "ipython3",
   "version": "3.6.9"
  }
 },
 "nbformat": 4,
 "nbformat_minor": 4
}

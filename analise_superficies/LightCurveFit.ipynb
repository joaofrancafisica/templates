{
 "cells": [
  {
   "cell_type": "code",
   "execution_count": null,
   "metadata": {
    "scrolled": false
   },
   "outputs": [],
   "source": [
    "from __future__ import print_function\n",
    "import matplotlib.pyplot as plt\n",
    "import sncosmo\n",
    "import astropy.units as u\n",
    "import glob\n",
    "import numpy as np\n",
    "\n",
    "teste = sncosmo.SALT2Source(modeldir=None, m0file='newM0.dat', m1file='salt2_template_1.dat', clfile='salt2_color_correction.dat', cdfile='salt2_color_dispersion.dat', errscalefile='salt2_lc_dispersion_scaling.dat', lcrv00file='salt2_lc_relative_variance_0.dat', lcrv11file='salt2_lc_relative_variance_1.dat', lcrv01file='salt2_lc_relative_covariance_01.dat', name=None, version=None)\n",
    "#ab = sncosmo.get_magsystem('ab')\n",
    "chi_quad_ndof = []\n",
    "names = glob.glob(\"*.txt\")\n",
    "\n",
    "#print(names)\n",
    "for j in range(0, len(names)):\n",
    "    #j = 4\n",
    "    print(names[j])\n",
    "\n",
    "    data = sncosmo.read_lc(names[j])\n",
    "    data['zp'] = 14.328\n",
    "    for i in range(0, len(data['flux'])):\n",
    "        data['fluxerr'][i] = np.log(10)*(10**((data['zp'][i] - data['flux'][i])/2.5))*data['fluxerr'][i] #flux error conversion\n",
    "        data['flux'][i] = 10**((data['zp'][i] - data['flux'][i])/2.5) #flux\n",
    "        \n",
    "    model = sncosmo.Model(source=teste)\n",
    "    model.set(z=data['redshift'][1])  # set the model's redshift\n",
    "    result, fitted_model = sncosmo.fit_lc(data, model,\n",
    "                                      ['t0', 'x0', 'x1', 'c'])\n",
    "    chi_quad_ndof.append(result.chisq/result.ndof)\n",
    "                \n",
    "#sncosmo.plot_lc(data, model=fitted_model, errors=result.errors)\n",
    "#plt.show()\n",
    "print(chi_quad_ndof)\n",
    "print(np.mean(chi_quad_ndof), np.std(chi_quad_ndof))\n",
    "#sncosmo.plot_lc(data, model=fitted_model, errors=result.errors)\n",
    "#plt.show()\n"
   ]
  },
  {
   "cell_type": "code",
   "execution_count": 2,
   "metadata": {
    "scrolled": true
   },
   "outputs": [
    {
     "data": {
      "image/png": "[encoded data removed]",
      "text/plain": [
       "<matplotlib.figure.Figure at 0x7f0610f886d8>"
      ]
     },
     "metadata": {
      "needs_background": "light"
     },
     "output_type": "display_data"
    }
   ],
   "source": [
    "sncosmo.plot_lc(data, model=fitted_model, errors=result.errors, zp=15.111, zpsys='csp')\n",
    "plt.show()"
   ]
  },
  {
   "cell_type": "code",
   "execution_count": 3,
   "metadata": {},
   "outputs": [
    {
     "data": {
      "text/plain": [
       "7"
      ]
     },
     "execution_count": 3,
     "metadata": {},
     "output_type": "execute_result"
    }
   ],
   "source": [
    "np.mean(chi_quad_ndof)\n",
    "len(chi_quad_ndof)"
   ]
  },
  {
   "cell_type": "code",
   "execution_count": 4,
   "metadata": {},
   "outputs": [
    {
     "data": {
      "image/png": "[encoded data removed]",
      "text/plain": [
       "<matplotlib.figure.Figure at 0x7f4f77523b00>"
      ]
     },
     "metadata": {
      "needs_background": "light"
     },
     "output_type": "display_data"
    }
   ],
   "source": [
    "histograma = plt.hist(chi_quad_ndof, bins=20)\n",
    "plt.title(\"Histograma chi_quadrado por grau de liberdade\")\n",
    "plt.show()"
   ]
  },
  {
   "cell_type": "code",
   "execution_count": 5,
   "metadata": {},
   "outputs": [
    {
     "ename": "FileNotFoundError",
     "evalue": "[Errno 2] No such file or directory: 'newM1.dat'",
     "output_type": "error",
     "traceback": [
      "\u001b[0;31m---------------------------------------------------------------------------\u001b[0m",
      "\u001b[0;31mFileNotFoundError\u001b[0m                         Traceback (most recent call last)",
      "\u001b[0;32m<ipython-input-5-409ff7a54151>\u001b[0m in \u001b[0;36m<module>\u001b[0;34m\u001b[0m\n\u001b[1;32m      6\u001b[0m \u001b[0;32mimport\u001b[0m \u001b[0mnumpy\u001b[0m \u001b[0;32mas\u001b[0m \u001b[0mnp\u001b[0m\u001b[0;34m\u001b[0m\u001b[0;34m\u001b[0m\u001b[0m\n\u001b[1;32m      7\u001b[0m \u001b[0;34m\u001b[0m\u001b[0m\n\u001b[0;32m----> 8\u001b[0;31m \u001b[0mteste\u001b[0m \u001b[0;34m=\u001b[0m \u001b[0msncosmo\u001b[0m\u001b[0;34m.\u001b[0m\u001b[0mSALT2Source\u001b[0m\u001b[0;34m(\u001b[0m\u001b[0mmodeldir\u001b[0m\u001b[0;34m=\u001b[0m\u001b[0;32mNone\u001b[0m\u001b[0;34m,\u001b[0m \u001b[0mm0file\u001b[0m\u001b[0;34m=\u001b[0m\u001b[0;34m'newM0.dat'\u001b[0m\u001b[0;34m,\u001b[0m \u001b[0mm1file\u001b[0m\u001b[0;34m=\u001b[0m\u001b[0;34m'newM1.dat'\u001b[0m\u001b[0;34m,\u001b[0m \u001b[0mclfile\u001b[0m\u001b[0;34m=\u001b[0m\u001b[0;34m'salt2_color_correction.dat'\u001b[0m\u001b[0;34m,\u001b[0m \u001b[0mcdfile\u001b[0m\u001b[0;34m=\u001b[0m\u001b[0;34m'salt2_color_dispersion.dat'\u001b[0m\u001b[0;34m,\u001b[0m \u001b[0merrscalefile\u001b[0m\u001b[0;34m=\u001b[0m\u001b[0;34m'salt2_lc_dispersion_scaling.dat'\u001b[0m\u001b[0;34m,\u001b[0m \u001b[0mlcrv00file\u001b[0m\u001b[0;34m=\u001b[0m\u001b[0;34m'salt2_lc_relative_variance_0.dat'\u001b[0m\u001b[0;34m,\u001b[0m \u001b[0mlcrv11file\u001b[0m\u001b[0;34m=\u001b[0m\u001b[0;34m'salt2_lc_relative_variance_1.dat'\u001b[0m\u001b[0;34m,\u001b[0m \u001b[0mlcrv01file\u001b[0m\u001b[0;34m=\u001b[0m\u001b[0;34m'salt2_lc_relative_covariance_01.dat'\u001b[0m\u001b[0;34m,\u001b[0m \u001b[0mname\u001b[0m\u001b[0;34m=\u001b[0m\u001b[0;32mNone\u001b[0m\u001b[0;34m,\u001b[0m \u001b[0mversion\u001b[0m\u001b[0;34m=\u001b[0m\u001b[0;32mNone\u001b[0m\u001b[0;34m)\u001b[0m\u001b[0;34m\u001b[0m\u001b[0;34m\u001b[0m\u001b[0m\n\u001b[0m\u001b[1;32m      9\u001b[0m \u001b[0;31m#ab = sncosmo.get_magsystem('ab')\u001b[0m\u001b[0;34m\u001b[0m\u001b[0;34m\u001b[0m\u001b[0;34m\u001b[0m\u001b[0m\n\u001b[1;32m     10\u001b[0m \u001b[0mchi_quad_ndof\u001b[0m \u001b[0;34m=\u001b[0m \u001b[0;34m[\u001b[0m\u001b[0;34m]\u001b[0m\u001b[0;34m\u001b[0m\u001b[0;34m\u001b[0m\u001b[0m\n",
      "\u001b[0;32m~/.local/lib/python3.6/site-packages/sncosmo/models.py\u001b[0m in \u001b[0;36m__init__\u001b[0;34m(self, modeldir, m0file, m1file, clfile, cdfile, errscalefile, lcrv00file, lcrv11file, lcrv01file, name, version)\u001b[0m\n\u001b[1;32m    667\u001b[0m         \u001b[0;31m# model components are interpolated to 2nd order\u001b[0m\u001b[0;34m\u001b[0m\u001b[0;34m\u001b[0m\u001b[0;34m\u001b[0m\u001b[0m\n\u001b[1;32m    668\u001b[0m         \u001b[0;32mfor\u001b[0m \u001b[0mkey\u001b[0m \u001b[0;32min\u001b[0m \u001b[0;34m[\u001b[0m\u001b[0;34m'M0'\u001b[0m\u001b[0;34m,\u001b[0m \u001b[0;34m'M1'\u001b[0m\u001b[0;34m]\u001b[0m\u001b[0;34m:\u001b[0m\u001b[0;34m\u001b[0m\u001b[0;34m\u001b[0m\u001b[0m\n\u001b[0;32m--> 669\u001b[0;31m             \u001b[0mphase\u001b[0m\u001b[0;34m,\u001b[0m \u001b[0mwave\u001b[0m\u001b[0;34m,\u001b[0m \u001b[0mvalues\u001b[0m \u001b[0;34m=\u001b[0m \u001b[0mread_griddata_ascii\u001b[0m\u001b[0;34m(\u001b[0m\u001b[0mnames_or_objs\u001b[0m\u001b[0;34m[\u001b[0m\u001b[0mkey\u001b[0m\u001b[0;34m]\u001b[0m\u001b[0;34m)\u001b[0m\u001b[0;34m\u001b[0m\u001b[0;34m\u001b[0m\u001b[0m\n\u001b[0m\u001b[1;32m    670\u001b[0m             \u001b[0mvalues\u001b[0m \u001b[0;34m*=\u001b[0m \u001b[0mself\u001b[0m\u001b[0;34m.\u001b[0m\u001b[0m_SCALE_FACTOR\u001b[0m\u001b[0;34m\u001b[0m\u001b[0;34m\u001b[0m\u001b[0m\n\u001b[1;32m    671\u001b[0m             \u001b[0mself\u001b[0m\u001b[0;34m.\u001b[0m\u001b[0m_model\u001b[0m\u001b[0;34m[\u001b[0m\u001b[0mkey\u001b[0m\u001b[0;34m]\u001b[0m \u001b[0;34m=\u001b[0m \u001b[0mBicubicInterpolator\u001b[0m\u001b[0;34m(\u001b[0m\u001b[0mphase\u001b[0m\u001b[0;34m,\u001b[0m \u001b[0mwave\u001b[0m\u001b[0;34m,\u001b[0m \u001b[0mvalues\u001b[0m\u001b[0;34m)\u001b[0m\u001b[0;34m\u001b[0m\u001b[0;34m\u001b[0m\u001b[0m\n",
      "\u001b[0;32m~/.local/lib/python3.6/site-packages/sncosmo/io.py\u001b[0m in \u001b[0;36mread_griddata_ascii\u001b[0;34m(name_or_obj)\u001b[0m\n\u001b[1;32m     61\u001b[0m \u001b[0;34m\u001b[0m\u001b[0m\n\u001b[1;32m     62\u001b[0m     \u001b[0;32mif\u001b[0m \u001b[0misinstance\u001b[0m\u001b[0;34m(\u001b[0m\u001b[0mname_or_obj\u001b[0m\u001b[0;34m,\u001b[0m \u001b[0mstr\u001b[0m\u001b[0;34m)\u001b[0m\u001b[0;34m:\u001b[0m\u001b[0;34m\u001b[0m\u001b[0;34m\u001b[0m\u001b[0m\n\u001b[0;32m---> 63\u001b[0;31m         \u001b[0mf\u001b[0m \u001b[0;34m=\u001b[0m \u001b[0mopen\u001b[0m\u001b[0;34m(\u001b[0m\u001b[0mname_or_obj\u001b[0m\u001b[0;34m,\u001b[0m \u001b[0;34m'r'\u001b[0m\u001b[0;34m)\u001b[0m\u001b[0;34m\u001b[0m\u001b[0;34m\u001b[0m\u001b[0m\n\u001b[0m\u001b[1;32m     64\u001b[0m     \u001b[0;32melse\u001b[0m\u001b[0;34m:\u001b[0m\u001b[0;34m\u001b[0m\u001b[0;34m\u001b[0m\u001b[0m\n\u001b[1;32m     65\u001b[0m         \u001b[0mf\u001b[0m \u001b[0;34m=\u001b[0m \u001b[0mname_or_obj\u001b[0m\u001b[0;34m\u001b[0m\u001b[0;34m\u001b[0m\u001b[0m\n",
      "\u001b[0;31mFileNotFoundError\u001b[0m: [Errno 2] No such file or directory: 'newM1.dat'"
     ]
    }
   ],
   "source": [
    "from __future__ import print_function\n",
    "import matplotlib.pyplot as plt\n",
    "import sncosmo\n",
    "import astropy.units as u\n",
    "import glob\n",
    "import numpy as np\n",
    "\n",
    "teste = sncosmo.SALT2Source(modeldir=None, m0file='newM0.dat', m1file='newM1.dat', clfile='salt2_color_correction.dat', cdfile='salt2_color_dispersion.dat', errscalefile='salt2_lc_dispersion_scaling.dat', lcrv00file='salt2_lc_relative_variance_0.dat', lcrv11file='salt2_lc_relative_variance_1.dat', lcrv01file='salt2_lc_relative_covariance_01.dat', name=None, version=None)\n",
    "#ab = sncosmo.get_magsystem('ab')\n",
    "chi_quad_ndof = []\n",
    "names = glob.glob(\"*.txt\")\n",
    "\n",
    "#print(names)\n",
    "for j in range(0, len(names)):\n",
    "    #j = 4\n",
    "    print(names[j])\n",
    "\n",
    "    data = sncosmo.read_lc(names[j])\n",
    "    data['zp'] = 14.328\n",
    "    for i in range(0, len(data['flux'])):\n",
    "        data['fluxerr'][i] = np.log(10)*(10**((data['zp'][i] - data['flux'][i])/2.5))*data['fluxerr'][i] #flux error conversion\n",
    "        data['flux'][i] = 10**((data['zp'][i] - data['flux'][i])/2.5) #flux\n",
    "        \n",
    "    model = sncosmo.Model(source=teste)\n",
    "    model.set(z=data['redshift'][1])  # set the model's redshift\n",
    "    result, fitted_model = sncosmo.fit_lc(data, model,\n",
    "                                      ['t0', 'x0', 'x1', 'c'])\n",
    "    chi_quad_ndof.append(result.chisq/result.ndof)\n",
    "                \n",
    "#sncosmo.plot_lc(data, model=fitted_model, errors=result.errors)\n",
    "#plt.show()\n",
    "print(chi_quad_ndof)\n",
    "print(np.mean(chi_quad_ndof), np.std(chi_quad_ndof))\n",
    "#sncosmo.plot_lc(data, model=fitted_model, errors=result.errors)\n",
    "#plt.show()"
   ]
  },
  {
   "cell_type": "code",
   "execution_count": null,
   "metadata": {
    "scrolled": true
   },
   "outputs": [],
   "source": [
    "sncosmo.plot_lc(data, model=fitted_model, errors=result.errors, zp=14.328, zpsys='csp')\n",
    "plt.show()"
   ]
  },
  {
   "cell_type": "code",
   "execution_count": null,
   "metadata": {},
   "outputs": [],
   "source": [
    "np.mean(chi_quad_ndof)\n",
    "len(chi_quad_ndof)"
   ]
  },
  {
   "cell_type": "code",
   "execution_count": null,
   "metadata": {},
   "outputs": [],
   "source": [
    "histograma = plt.hist(chi_quad_ndof, bins=20)\n",
    "plt.title(\"Histograma chi_quadrado por grau de liberdade\")\n",
    "plt.show()"
   ]
  },
  {
   "cell_type": "code",
   "execution_count": null,
   "metadata": {},
   "outputs": [],
   "source": []
  }
 ],
 "metadata": {
  "kernelspec": {
   "display_name": "Python 3",
   "language": "python",
   "name": "python3"
  },
  "language_info": {
   "codemirror_mode": {
    "name": "ipython",
    "version": 3
   },
   "file_extension": ".py",
   "mimetype": "text/x-python",
   "name": "python",
   "nbconvert_exporter": "python",
   "pygments_lexer": "ipython3",
   "version": "3.6.8"
  }
 },
 "nbformat": 4,
 "nbformat_minor": 2
}

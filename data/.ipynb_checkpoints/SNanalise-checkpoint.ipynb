{
 "cells": [
  {
   "cell_type": "code",
   "execution_count": null,
   "metadata": {},
   "outputs": [],
   "source": [
    "import glob #to read the files\n",
    "import numpy as np\n",
    "import matplotlib.pyplot as plt\n",
    "from mpl_toolkits.mplot3d import axes3d\n",
    "from sklearn.gaussian_process import GaussianProcessRegressor\n",
    "from sklearn.gaussian_process.kernels import RBF, WhiteKernel\n",
    "from scipy.interpolate import interp1d"
   ]
  },
  {
   "cell_type": "code",
   "execution_count": null,
   "metadata": {},
   "outputs": [],
   "source": [
    "sn_names=glob.glob(\"SN1994ae*.dat\")"
   ]
  },
  {
   "cell_type": "code",
   "execution_count": null,
   "metadata": {},
   "outputs": [],
   "source": [
    "wave = []\n",
    "flux = []\n",
    "time = []"
   ]
  },
  {
   "cell_type": "code",
   "execution_count": null,
   "metadata": {},
   "outputs": [],
   "source": [
    "for i in range(0,len(sn_names)):\n",
    "    \n",
    "    file = open(sn_names[i])\n",
    "    lines = file.readlines()\n",
    "    file.close()\n",
    "\n",
    "    \n",
    "    y = []\n",
    "    z = []\n",
    "\n",
    "    for line in lines:\n",
    "        if line.startswith('#'): continue\n",
    "        co=line.rstrip().replace('INDEF','Nan').split()\n",
    "\n",
    "        y.append(co[0])\n",
    "        z.append(co[1])\n",
    "    \n",
    "    \n",
    "    y = np.array(y, dtype=float)\n",
    "    z = np.array(z, dtype=float)\n",
    "\n",
    "    wave.append(y)\n",
    "    flux.append(z)\n",
    "\n",
    "    timetemp = lines[0]\n",
    "    timetemp = timetemp[:-1]\n",
    "    timetemp = float(timetemp[1:])\n",
    "    \n",
    "    time.append(timetemp)"
   ]
  },
  {
   "cell_type": "code",
   "execution_count": null,
   "metadata": {},
   "outputs": [],
   "source": [
    "%matplotlib notebook\n",
    "fig = plt.figure(figsize=(10,6))\n",
    "ax = axes3d.Axes3D(fig)\n",
    "\n",
    "for i in range(0,len(wave)):\n",
    "    \n",
    "    ntime = []\n",
    "    \n",
    "    for k in range(0,len(wave[i])):\n",
    "        \n",
    "        ntime.append(time[i])\n",
    "    \n",
    "    ax.scatter3D(ntime,wave[i],flux[i], c='k')\n",
    "    \n",
    "    \n",
    "plt.show()"
   ]
  },
  {
   "cell_type": "code",
   "execution_count": null,
   "metadata": {},
   "outputs": [],
   "source": [
    "final_gradey = np.linspace(2000, 9200, 721)"
   ]
  },
  {
   "cell_type": "code",
   "execution_count": null,
   "metadata": {},
   "outputs": [],
   "source": [
    "xx = []\n",
    "zz = []\n",
    "factors = []"
   ]
  },
  {
   "cell_type": "code",
   "execution_count": null,
   "metadata": {},
   "outputs": [],
   "source": [
    "final_gradey[400]"
   ]
  },
  {
   "cell_type": "code",
   "execution_count": null,
   "metadata": {},
   "outputs": [],
   "source": [
    "c = 200"
   ]
  },
  {
   "cell_type": "code",
   "execution_count": null,
   "metadata": {},
   "outputs": [],
   "source": [
    "for i in range(0,len(wave)):\n",
    "    \n",
    "    interpolation = interp1d(wave[i], flux[i])\n",
    "    \n",
    "    if min(wave[i]) <final_gradey[c]< max(wave[i]):\n",
    "    \n",
    "        xx.append([time[i]])\n",
    "        zz.append(interpolation(final_gradey[c]))\n",
    "    \n",
    "factors.append(max(zz))\n",
    "zz = zz/max(zz)"
   ]
  },
  {
   "cell_type": "code",
   "execution_count": null,
   "metadata": {},
   "outputs": [],
   "source": [
    "kernel = 1* RBF(length_scale=2.0, length_scale_bounds=(1, 10)) + WhiteKernel(noise_level=1e-1, noise_level_bounds=(1e-5, 0.5))"
   ]
  },
  {
   "cell_type": "code",
   "execution_count": null,
   "metadata": {},
   "outputs": [],
   "source": [
    "X_ = np.linspace(-10, 50, 60 + 1)"
   ]
  },
  {
   "cell_type": "code",
   "execution_count": null,
   "metadata": {},
   "outputs": [],
   "source": [
    "gp = GaussianProcessRegressor(kernel=kernel, alpha=0.0).fit(xx, zz)\n",
    "\n",
    "score = gp.score(xx, zz)\n",
    "y_mean, y_cov = gp.predict(X_[:, np.newaxis], return_cov=True)"
   ]
  },
  {
   "cell_type": "code",
   "execution_count": null,
   "metadata": {},
   "outputs": [],
   "source": [
    "%matplotlib notebook\n",
    "\n",
    "plt.fill_between(X_, y_mean - np.sqrt(np.diag(y_cov)),y_mean + np.sqrt(np.diag(y_cov)),alpha=0.5, color='k')\n",
    "plt.scatter(xx, zz, c='r', s=50, zorder=10, edgecolors=(0, 0, 0))\n",
    "plt.plot(X_, y_mean, 'k', lw=3, zorder=9)\n",
    "plt.xlim(-10,50)\n",
    "plt.xlabel(\"time(days)\")\n",
    "plt.ylabel(\"normalized flux\")\n",
    "plt.show()"
   ]
  },
  {
   "cell_type": "code",
   "execution_count": null,
   "metadata": {
    "scrolled": true
   },
   "outputs": [],
   "source": [
    "score"
   ]
  },
  {
   "cell_type": "code",
   "execution_count": null,
   "metadata": {},
   "outputs": [],
   "source": []
  },
  {
   "cell_type": "code",
   "execution_count": null,
   "metadata": {},
   "outputs": [],
   "source": []
  }
 ],
 "metadata": {
  "kernelspec": {
   "display_name": "Python 3",
   "language": "python",
   "name": "python3"
  },
  "language_info": {
   "codemirror_mode": {
    "name": "ipython",
    "version": 3
   },
   "file_extension": ".py",
   "mimetype": "text/x-python",
   "name": "python",
   "nbconvert_exporter": "python",
   "pygments_lexer": "ipython3",
   "version": "3.6.9"
  }
 },
 "nbformat": 4,
 "nbformat_minor": 2
}

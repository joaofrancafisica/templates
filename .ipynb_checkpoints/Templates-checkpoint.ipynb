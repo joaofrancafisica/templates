{
 "cells": [
  {
   "cell_type": "code",
   "execution_count": 1,
   "metadata": {},
   "outputs": [],
   "source": [
    "import numpy as np #to math"
   ]
  },
  {
   "cell_type": "code",
   "execution_count": 2,
   "metadata": {},
   "outputs": [],
   "source": [
    "file = open(\"training_names.txt\")\n",
    "lines = file.readlines()\n",
    "file.close()"
   ]
  },
  {
   "cell_type": "code",
   "execution_count": 3,
   "metadata": {},
   "outputs": [],
   "source": [
    "sn_names = []\n",
    "\n",
    "for line in lines:\n",
    "    if line.startswith('#'): continue\n",
    "    co=line.rstrip().replace('INDEF','Nan').split()\n",
    "    sn_names.append(co[0])"
   ]
  },
  {
   "cell_type": "code",
   "execution_count": 4,
   "metadata": {},
   "outputs": [
    {
     "data": {
      "text/plain": [
       "['SN2012fr.dat',\n",
       " 'SN2008ar.dat',\n",
       " 'SN2007sr.dat',\n",
       " 'SN2007af.dat',\n",
       " 'SN2005cf.dat',\n",
       " 'LSQ12gdj.dat']"
      ]
     },
     "execution_count": 4,
     "metadata": {},
     "output_type": "execute_result"
    }
   ],
   "source": [
    "sn_names"
   ]
  },
  {
   "cell_type": "code",
   "execution_count": 5,
   "metadata": {},
   "outputs": [],
   "source": [
    "final_gradex = np.linspace(-21, 51, 70)\n",
    "final_gradey = np.linspace(2001, 9201, 300)\n",
    "final_flux = [[[] for x in range(0,len(final_gradey))] for y in range(0,len(final_gradex))] \n",
    "tolerance_x = 0.2\n",
    "tolerance_y = 5\n",
    "total_sn = 0"
   ]
  },
  {
   "cell_type": "code",
   "execution_count": 6,
   "metadata": {},
   "outputs": [],
   "source": [
    "def new_time_list(time_list):\n",
    "    new_list = []\n",
    "    position = []\n",
    "    #print(time_list)\n",
    "    for pos in range(0, len(time_list)):\n",
    "        \n",
    "        if pos == 0:\n",
    "            new_list.append(time_list[0])\n",
    "            position.append(0)\n",
    "            previous_time = time_list[0]\n",
    "        else:\n",
    "            if time_list[pos] != previous_time:\n",
    "                new_list.append(time_list[pos])\n",
    "                position.append(pos)\n",
    "                previous_time = time_list[pos]\n",
    "                \n",
    "    return new_list,position\n",
    "            "
   ]
  },
  {
   "cell_type": "code",
   "execution_count": 7,
   "metadata": {},
   "outputs": [],
   "source": [
    "def new_waveflux_list(positions, wave, flux):\n",
    "    #print(wave)\n",
    "    #print(positions)\n",
    "    newwave = []\n",
    "    newflux = []\n",
    "    \n",
    "    for pos in range(0, len(positions)):\n",
    "        if pos == 0:\n",
    "            begin = 0\n",
    "        if pos != 0:\n",
    "            newwave.append(np.array(wave[begin:positions[pos]]))\n",
    "            newflux.append(np.array(flux[begin:positions[pos]]))\n",
    "            begin = pos\n",
    "    return newwave,newflux"
   ]
  },
  {
   "cell_type": "code",
   "execution_count": 12,
   "metadata": {},
   "outputs": [
    {
     "name": "stdout",
     "output_type": "stream",
     "text": [
      "SN2012fr.dat\n",
      "[3481.96 3482.72 3483.48 3484.24 3485.   3485.76 3486.52 3487.28 3488.04\n",
      " 3488.81 3489.57 3490.33 3491.09 3491.85 3492.61 3493.37 3494.13 3494.89\n",
      " 3495.65 3496.41 3497.17 3497.93 3498.69 3499.45 3500.21 3500.97 3501.73\n",
      " 3502.49 3503.25 3504.01 3504.77 3505.53 3506.29 3507.05 3507.81 3508.57\n",
      " 3509.34 3510.1  3510.86 3511.62 3512.38 3513.14 3513.9  3514.66 3515.42\n",
      " 3516.18 3516.94 3517.7  3518.46 3519.22 3519.98 3520.74 3521.5  3522.26\n",
      " 3523.02 3523.78 3524.54 3525.3  3526.06 3526.82 3527.58 3528.34 3529.1\n",
      " 3529.87 3530.63 3531.39 3532.15 3532.91 3533.67 3534.43 3535.19 3535.95\n",
      " 3536.71 3537.47 3538.23 3538.99 3539.75 3540.51 3541.27 3542.03 3542.79\n",
      " 3543.55 3544.31 3545.07 3545.83 3546.59 3547.35 3548.11 3548.87 3549.63\n",
      " 3550.4  3551.16 3551.92 3552.68 3553.44 3554.2  3554.96 3555.72 3556.48\n",
      " 3557.24 3558.   3558.76 3559.52 3560.28 3561.04 3561.8  3562.56 3563.32\n",
      " 3564.08 3564.84 3565.6  3566.36 3567.12 3567.88 3568.64 3569.4  3570.16\n",
      " 3570.93 3571.69 3572.45 3573.21 3573.97 3574.73 3575.49 3576.25 3577.01\n",
      " 3577.77 3578.53 3579.29 3580.05 3580.81 3581.57 3582.33 3583.09 3583.85\n",
      " 3584.61 3481.2  3482.21 3483.23 3484.24 3485.25 3486.26 3487.27 3488.29\n",
      " 3489.3  3490.31 3491.32 3492.33 3493.34 3494.36 3495.37 3496.38 3497.39\n",
      " 3498.4  3499.42 3500.43 3501.44 3502.45 3503.46 3504.48 3505.49 3506.5\n",
      " 3507.51 3508.52 3509.54 3510.55 3511.56 3512.57 3513.58 3514.6  3515.61\n",
      " 3516.62 3517.63 3518.64 3519.66 3520.67 3521.68 3522.69 3523.7  3524.72\n",
      " 3525.73 3526.74 3527.75 3528.76 3529.77 3530.79 3531.8  3532.81 3533.82\n",
      " 3534.83 3535.85 3536.86 3537.87 3538.88 3539.89 3540.91 3541.92 3542.93\n",
      " 3543.94 3544.95 3545.97 3546.98 3547.99 3549.   3550.01 3551.03 3552.04\n",
      " 3553.05 3554.06 3555.07 3556.09 3557.1  3558.11 3559.12 3560.13 3561.15\n",
      " 3562.16 3563.17 3564.18 3565.19 3566.2  3567.22 3568.23 3569.24 3570.25\n",
      " 3571.26 3572.28 3573.29 3574.3  3575.31 3576.32 3577.34 3578.35 3579.36\n",
      " 3580.37 3581.38 3582.4  3583.41 3584.42 3585.43 3586.44 3587.46 3588.47\n",
      " 3589.48 3590.49 3591.5  3592.52 3593.53 3594.54 3595.55 3596.56 3597.58\n",
      " 3598.59 3599.6  3600.61 3601.62 3602.64 3603.65 3604.66 3605.67 3606.68\n",
      " 3607.69 3608.71 3609.72 3610.73 3611.74 3612.75 3613.77 3614.78 3615.79\n",
      " 3616.8  3617.81 3618.83 3481.2  3481.96 3482.72 3483.48 3484.24 3485.\n",
      " 3485.76 3486.52 3487.28 3488.04 3488.81 3489.57 3490.33 3491.09 3491.85\n",
      " 3492.61 3493.37 3494.13 3494.89 3495.65 3496.41 3497.17 3497.93 3498.69\n",
      " 3499.45 3500.21 3500.97 3501.73 3502.49 3503.25 3504.01 3504.77 3505.53\n",
      " 3506.29 3507.05 3507.81 3508.57 3509.34 3510.1  3510.86 3511.62 3512.38\n",
      " 3513.14 3513.9  3514.66 3515.42 3516.18 3516.94 3517.7  3518.46 3519.22\n",
      " 3519.98 3520.74 3521.5  3522.26 3523.02 3523.78 3524.54 3525.3  3526.06\n",
      " 3526.82 3527.58 3528.34 3529.1  3529.87 3530.63 3531.39 3532.15 3532.91\n",
      " 3533.67 3534.43 3535.19 3535.95 3536.71 3537.47 3538.23 3538.99 3539.75\n",
      " 3540.51 3541.27 3542.03 3542.79 3543.55 3544.31 3545.07 3545.83 3546.59\n",
      " 3547.35 3548.11 3548.87 3549.63 3550.4  3551.16 3551.92 3552.68 3553.44\n",
      " 3554.2  3554.96 3555.72 3556.48 3557.24 3558.   3558.76 3559.52 3560.28\n",
      " 3561.04 3561.8  3562.56 3563.32 3564.08 3564.84 3565.6  3566.36 3567.12\n",
      " 3567.88 3568.64 3569.4  3570.16 3570.93 3571.69 3572.45 3573.21 3573.97\n",
      " 3574.73 3575.49 3576.25 3577.01 3577.77 3578.53 3579.29 3580.05 3580.81\n",
      " 3581.57 3582.33 3583.09 3583.85 3584.61]\n"
     ]
    }
   ],
   "source": [
    "for u in range(0,1):\n",
    "    print(sn_names[u])\n",
    "    \n",
    "    file = open(sn_names[u])\n",
    "    lines = file.readlines()\n",
    "    file.close()\n",
    "    \n",
    "    time_temp = []\n",
    "    wavelength_temp = []\n",
    "    flux_temp = []\n",
    "    \n",
    "    time = []\n",
    "    wavelength = []\n",
    "    flux = []\n",
    "    \n",
    "    for line in lines:\n",
    "        if line.startswith('#'): continue\n",
    "        co=line.rstrip().replace('INDEF','Nan').split()\n",
    "    \n",
    "        time_temp.append(co[0])\n",
    "        wavelength_temp.append(co[1])\n",
    "        flux_temp.append(co[2])\n",
    "    \n",
    "\n",
    "    time_temp = np.array(time_temp, dtype=float)\n",
    "    wavelength_temp = np.array(wavelength_temp, dtype=float)\n",
    "    flux_temp = np.array(flux_temp, dtype=float)\n",
    "    \n",
    "    timecorrection = new_time_list(time_temp)\n",
    "    time = timecorrection[0]\n",
    "    \n",
    "    wavefluxcorrection = new_waveflux_list(timecorrection[1],wavelength_temp,flux_temp)\n",
    "    \n",
    "    print(wavefluxcorrection[0][1])\n",
    "    '''\n",
    "    for m in range(0,len(final_gradex)):\n",
    "\n",
    "        for n in range(0,len(final_gradey)):\n",
    "\n",
    "            for i in range(0,len(time)):\n",
    "                if (final_gradex[m] - tolerance_x) < time[i] < (final_gradex[m] + tolerance_x):\n",
    "\n",
    "                    for j in range(0,len(wavelenght[i])):\n",
    "\n",
    "                        if (final_gradey[n] - tolerance_y) < wavelenght[i][j] < (final_gradey[n] + tolerance_y):\n",
    "                            final_flux[m][n].append(final_fluxdat[i][j])        \n",
    "                            #print(final_gradex[m], final_gradey[n])\n",
    "    '''                            "
   ]
  },
  {
   "cell_type": "code",
   "execution_count": null,
   "metadata": {},
   "outputs": [],
   "source": []
  }
 ],
 "metadata": {
  "kernelspec": {
   "display_name": "Python 3",
   "language": "python",
   "name": "python3"
  },
  "language_info": {
   "codemirror_mode": {
    "name": "ipython",
    "version": 3
   },
   "file_extension": ".py",
   "mimetype": "text/x-python",
   "name": "python",
   "nbconvert_exporter": "python",
   "pygments_lexer": "ipython3",
   "version": "3.6.8"
  }
 },
 "nbformat": 4,
 "nbformat_minor": 2
}
